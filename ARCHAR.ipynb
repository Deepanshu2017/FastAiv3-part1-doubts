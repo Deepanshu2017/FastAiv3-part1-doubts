{
 "cells": [
  {
   "cell_type": "code",
   "execution_count": 1,
   "metadata": {
    "colab": {},
    "colab_type": "code",
    "id": "aNA1QzeXter9"
   },
   "outputs": [],
   "source": [
    "import numpy as np\n",
    "from fastai import *\n",
    "from fastai.vision import *\n",
    "import torch\n",
    "import os\n",
    "from torchvision import transforms"
   ]
  },
  {
   "cell_type": "markdown",
   "metadata": {
    "colab_type": "text",
    "id": "I1yePuLDPp1q"
   },
   "source": [
    "**data from https://www.kaggle.com/mloey1/ahcd1**"
   ]
  },
  {
   "cell_type": "code",
   "execution_count": 2,
   "metadata": {},
   "outputs": [],
   "source": [
    "data_path = Path('data')"
   ]
  },
  {
   "cell_type": "code",
   "execution_count": 3,
   "metadata": {
    "colab": {},
    "colab_type": "code",
    "id": "NKRpEDv-teux"
   },
   "outputs": [
    {
     "data": {
      "text/plain": [
       "((3360, 1024), (3360,), (1024,), 27, 0, 255.0)"
      ]
     },
     "execution_count": 3,
     "metadata": {},
     "output_type": "execute_result"
    }
   ],
   "source": [
    "test_x = np.genfromtxt(data_path/'csvTestImages 3360x1024.csv', delimiter=',')\n",
    "test_y = np.genfromtxt(data_path/'csvTestLabel 3360x1.csv', delimiter=',')\n",
    "test_y = test_y.astype(int) - 1\n",
    "test_x = test_x.astype(float)\n",
    "\n",
    "\n",
    "test_x.shape, test_y.shape, test_x[0].shape, test_y.max(), test_y.min(), max(test_x.max(axis=1))"
   ]
  },
  {
   "cell_type": "code",
   "execution_count": 4,
   "metadata": {
    "colab": {},
    "colab_type": "code",
    "id": "OGVOctF1BIZQ"
   },
   "outputs": [],
   "source": [
    "class ArabicMnist(Dataset):\n",
    "    def __init__(self, X, y=None):\n",
    "        super().__init__()\n",
    "        self.classes = np.unique(y)\n",
    "        self.c = len(np.unique(y))\n",
    "        self.X = X\n",
    "        if y is not None: self.y = y\n",
    "\n",
    "    def __getitem__(self, i):\n",
    "        image = self.X[i]\n",
    "        arr = (image - image.mean()) / image.std() # normalizes between -1 and +1\n",
    "        arr = (arr + 1) / 2 * 255 # moves it between 0 and 255\n",
    "        arr /= 255.0   ### WITH RANGE [0 ... 1]\n",
    "#         arr = np.clip(arr, 0, 255).astype(np.uint8),\n",
    "        arr3D = np.tile(arr[..., None], 3)\n",
    "#         arr3D = 256 - arr3D\n",
    "        arr3D = np.transpose(arr3D, (2, 1, 0))\n",
    "        new_tensor = torch.from_numpy(arr3D).float()\n",
    "        return (new_tensor, self.y[i])\n",
    "    \n",
    "    def __len__(self): return len(self.X)"
   ]
  },
  {
   "cell_type": "code",
   "execution_count": 5,
   "metadata": {
    "colab": {},
    "colab_type": "code",
    "id": "DkdnXSB4EqcZ"
   },
   "outputs": [],
   "source": [
    "test_x_reshaped = test_x.reshape([-1, 32, 32])"
   ]
  },
  {
   "cell_type": "code",
   "execution_count": 6,
   "metadata": {
    "colab": {
     "base_uri": "https://localhost:8080/",
     "height": 35
    },
    "colab_type": "code",
    "id": "C-HcoFdIFGIB",
    "outputId": "3d719921-46bf-4a8f-ae81-340f4147b5c6"
   },
   "outputs": [
    {
     "data": {
      "text/plain": [
       "((3360, 32, 32), (3360,))"
      ]
     },
     "execution_count": 6,
     "metadata": {},
     "output_type": "execute_result"
    }
   ],
   "source": [
    "test_x_reshaped.shape, test_y.shape"
   ]
  },
  {
   "cell_type": "code",
   "execution_count": 7,
   "metadata": {
    "colab": {},
    "colab_type": "code",
    "id": "TyYczYXvu0Lr"
   },
   "outputs": [],
   "source": [
    "AM = ArabicMnist(test_x_reshaped[:2720], test_y[:2720])\n",
    "AMV = ArabicMnist(test_x_reshaped[2720:], test_y[2720:])"
   ]
  },
  {
   "cell_type": "code",
   "execution_count": 8,
   "metadata": {
    "colab": {},
    "colab_type": "code",
    "id": "Klut9hBp7ehr"
   },
   "outputs": [],
   "source": [
    "data = DataBunch.create(AM, AMV, bs=8)"
   ]
  },
  {
   "cell_type": "code",
   "execution_count": 9,
   "metadata": {},
   "outputs": [
    {
     "data": {
      "text/plain": [
       "(tensor([[[0.3682, 0.3682, 0.3682,  ..., 0.3682, 0.3682, 0.3682],\n",
       "          [0.3682, 0.3682, 0.3682,  ..., 0.3682, 0.3682, 0.3682],\n",
       "          [0.3682, 0.3682, 0.3682,  ..., 0.3682, 0.3682, 0.3682],\n",
       "          ...,\n",
       "          [0.3682, 0.3682, 0.3682,  ..., 0.3682, 0.3682, 0.3682],\n",
       "          [0.3682, 0.3682, 0.3682,  ..., 0.3682, 0.3682, 0.3682],\n",
       "          [0.3682, 0.3682, 0.3682,  ..., 0.3682, 0.3682, 0.3682]],\n",
       " \n",
       "         [[0.3682, 0.3682, 0.3682,  ..., 0.3682, 0.3682, 0.3682],\n",
       "          [0.3682, 0.3682, 0.3682,  ..., 0.3682, 0.3682, 0.3682],\n",
       "          [0.3682, 0.3682, 0.3682,  ..., 0.3682, 0.3682, 0.3682],\n",
       "          ...,\n",
       "          [0.3682, 0.3682, 0.3682,  ..., 0.3682, 0.3682, 0.3682],\n",
       "          [0.3682, 0.3682, 0.3682,  ..., 0.3682, 0.3682, 0.3682],\n",
       "          [0.3682, 0.3682, 0.3682,  ..., 0.3682, 0.3682, 0.3682]],\n",
       " \n",
       "         [[0.3682, 0.3682, 0.3682,  ..., 0.3682, 0.3682, 0.3682],\n",
       "          [0.3682, 0.3682, 0.3682,  ..., 0.3682, 0.3682, 0.3682],\n",
       "          [0.3682, 0.3682, 0.3682,  ..., 0.3682, 0.3682, 0.3682],\n",
       "          ...,\n",
       "          [0.3682, 0.3682, 0.3682,  ..., 0.3682, 0.3682, 0.3682],\n",
       "          [0.3682, 0.3682, 0.3682,  ..., 0.3682, 0.3682, 0.3682],\n",
       "          [0.3682, 0.3682, 0.3682,  ..., 0.3682, 0.3682, 0.3682]]]), 0)"
      ]
     },
     "execution_count": 9,
     "metadata": {},
     "output_type": "execute_result"
    }
   ],
   "source": [
    "img1 = data.train_ds[0]\n",
    "img1"
   ]
  },
  {
   "cell_type": "code",
   "execution_count": 10,
   "metadata": {},
   "outputs": [
    {
     "name": "stderr",
     "output_type": "stream",
     "text": [
      "Clipping input data to the valid range for imshow with RGB data ([0..1] for floats or [0..255] for integers).\n"
     ]
    },
    {
     "data": {
      "text/plain": [
       "<matplotlib.image.AxesImage at 0x7fea3f70f6d8>"
      ]
     },
     "execution_count": 10,
     "metadata": {},
     "output_type": "execute_result"
    },
    {
     "data": {
      "image/png": "[encoded data removed]",
      "text/plain": [
       "<Figure size 432x288 with 1 Axes>"
      ]
     },
     "metadata": {
      "needs_background": "light"
     },
     "output_type": "display_data"
    }
   ],
   "source": [
    "plt.imshow(np.transpose(img1[0], (2, 1, 0)))"
   ]
  },
  {
   "cell_type": "code",
   "execution_count": 11,
   "metadata": {
    "colab": {},
    "colab_type": "code",
    "id": "xYhO0iIl7el4"
   },
   "outputs": [],
   "source": [
    "learn = create_cnn(data, models.resnet18, metrics=error_rate)"
   ]
  },
  {
   "cell_type": "code",
   "execution_count": 12,
   "metadata": {},
   "outputs": [
    {
     "name": "stdout",
     "output_type": "stream",
     "text": [
      "Total time: 00:30\n",
      "epoch  train_loss  valid_loss  error_rate\n",
      "1      -0.050481   -0.087398   0.951563    (00:10)\n",
      "2      0.023616    -0.001692   0.971875    (00:09)\n",
      "3      0.063470    -0.065271   0.954687    (00:09)\n",
      "\n"
     ]
    }
   ],
   "source": [
    "# %%debug\n",
    "learn.fit(3, 1e-9)"
   ]
  },
  {
   "cell_type": "code",
   "execution_count": 13,
   "metadata": {},
   "outputs": [],
   "source": [
    "class ArabicMnist(Dataset):\n",
    "    def __init__(self, X, y=None):\n",
    "        super().__init__()\n",
    "        self.classes = np.unique(y)\n",
    "        self.c = len(np.unique(y))\n",
    "        self.X = X\n",
    "        if y is not None: self.y = y\n",
    "\n",
    "    def __getitem__(self, i):\n",
    "        image = self.X[i]\n",
    "        arr = (image - image.mean()) / image.std() # normalizes between -1 and +1\n",
    "        arr = (arr + 1) / 2 * 255 # moves it between 0 and 255\n",
    "#         arr /= 255.0  ## WITH RANGE [0, 255]\n",
    "#         arr = np.clip(arr, 0, 255).astype(np.uint8),\n",
    "        arr3D = np.tile(arr[..., None], 3)\n",
    "#         arr3D = 256 - arr3D\n",
    "        arr3D = np.transpose(arr3D, (2, 1, 0))\n",
    "        new_tensor = torch.from_numpy(arr3D).float()\n",
    "        return (new_tensor, self.y[i])\n",
    "    \n",
    "    def __len__(self): return len(self.X)"
   ]
  },
  {
   "cell_type": "code",
   "execution_count": 14,
   "metadata": {},
   "outputs": [],
   "source": [
    "AM = ArabicMnist(test_x_reshaped[:2720], test_y[:2720])\n",
    "AMV = ArabicMnist(test_x_reshaped[2720:], test_y[2720:])"
   ]
  },
  {
   "cell_type": "code",
   "execution_count": 15,
   "metadata": {},
   "outputs": [],
   "source": [
    "data = DataBunch.create(AM, AMV, bs=8)"
   ]
  },
  {
   "cell_type": "code",
   "execution_count": 16,
   "metadata": {},
   "outputs": [],
   "source": [
    "learn = create_cnn(data, models.resnet18, metrics=error_rate)"
   ]
  },
  {
   "cell_type": "code",
   "execution_count": 17,
   "metadata": {},
   "outputs": [
    {
     "name": "stdout",
     "output_type": "stream",
     "text": [
      "Total time: 00:29\n",
      "epoch  train_loss  valid_loss  error_rate\n",
      "1      0.005595    0.063722    0.970312    (00:09)\n",
      "2      0.052280    -0.058503   0.956250    (00:09)\n",
      "3      -0.036031   -0.035565   0.960938    (00:09)\n",
      "\n"
     ]
    }
   ],
   "source": [
    "# %%debug\n",
    "learn.fit(3, 1e-9)"
   ]
  }
 ],
 "metadata": {
  "accelerator": "GPU",
  "colab": {
   "name": "ARCHAR.ipynb",
   "provenance": [],
   "version": "0.3.2"
  },
  "kernelspec": {
   "display_name": "Python 3",
   "language": "python",
   "name": "python3"
  },
  "language_info": {
   "codemirror_mode": {
    "name": "ipython",
    "version": 3
   },
   "file_extension": ".py",
   "mimetype": "text/x-python",
   "name": "python",
   "nbconvert_exporter": "python",
   "pygments_lexer": "ipython3",
   "version": "3.7.0"
  }
 },
 "nbformat": 4,
 "nbformat_minor": 1
}
