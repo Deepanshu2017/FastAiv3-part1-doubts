{
 "cells": [
  {
   "cell_type": "code",
   "execution_count": 12,
   "metadata": {
    "colab": {},
    "colab_type": "code",
    "id": "aNA1QzeXter9"
   },
   "outputs": [],
   "source": [
    "import numpy as np\n",
    "from fastai import *\n",
    "from fastai.vision import *\n",
    "import torch\n",
    "import os\n",
    "from torchvision import transforms"
   ]
  },
  {
   "cell_type": "markdown",
   "metadata": {
    "colab_type": "text",
    "id": "I1yePuLDPp1q"
   },
   "source": [
    "**data from https://www.kaggle.com/mloey1/ahcd1**"
   ]
  },
  {
   "cell_type": "code",
   "execution_count": 13,
   "metadata": {},
   "outputs": [],
   "source": [
    "data_path = Path('data')"
   ]
  },
  {
   "cell_type": "code",
   "execution_count": 14,
   "metadata": {
    "colab": {},
    "colab_type": "code",
    "id": "NKRpEDv-teux"
   },
   "outputs": [
    {
     "data": {
      "text/plain": [
       "((3360, 1024), (3360,), (1024,), 27, 0, 255)"
      ]
     },
     "execution_count": 14,
     "metadata": {},
     "output_type": "execute_result"
    }
   ],
   "source": [
    "test_x = np.genfromtxt(data_path/'csvTestImages 3360x1024.csv', delimiter=',')\n",
    "test_y = np.genfromtxt(data_path/'csvTestLabel 3360x1.csv', delimiter=',')\n",
    "test_y = test_y.astype(int) - 1\n",
    "test_x = test_x.astype(int)\n",
    "\n",
    "\n",
    "test_x.shape, test_y.shape, test_x[0].shape, test_y.max(), test_y.min(), max(test_x.max(axis=1))"
   ]
  },
  {
   "cell_type": "markdown",
   "metadata": {},
   "source": [
    "#### Custom Dataset"
   ]
  },
  {
   "cell_type": "code",
   "execution_count": 15,
   "metadata": {
    "colab": {},
    "colab_type": "code",
    "id": "OGVOctF1BIZQ"
   },
   "outputs": [],
   "source": [
    "class ArabicMnist(Dataset):\n",
    "    def __init__(self, X, y=None):\n",
    "        super().__init__()\n",
    "        self.classes = np.unique(y)\n",
    "        self.c = len(np.unique(y))\n",
    "        self.X = X\n",
    "        if y is not None: self.y = y\n",
    "\n",
    "    def __getitem__(self, i):\n",
    "        image = self.X[i]\n",
    "        arr3D = np.tile(image[..., None], 3)\n",
    "        arr3D = np.transpose(arr3D, (2, 1, 0))\n",
    "        new_tensor = torch.from_numpy(arr3D).float()\n",
    "        return (new_tensor, self.y[i])\n",
    "    \n",
    "    def __len__(self): return len(self.X)"
   ]
  },
  {
   "cell_type": "code",
   "execution_count": 16,
   "metadata": {
    "colab": {},
    "colab_type": "code",
    "id": "DkdnXSB4EqcZ"
   },
   "outputs": [],
   "source": [
    "test_x_reshaped = test_x.reshape([-1, 32, 32])"
   ]
  },
  {
   "cell_type": "code",
   "execution_count": 229,
   "metadata": {},
   "outputs": [],
   "source": [
    "mean = test_x.mean()\n",
    "std = test_x.std()\n",
    "test_x = (test_x - mean) / std\n",
    "test_x = (test_x + 1) / 2 * 255 # moves it between 0 and 255\n",
    "test_x = np.clip(test_x, 0, 255).astype(np.uint8)\n",
    "test_x_reshaped = test_x.reshape([-1, 32, 32])\n",
    "# # Numpy to Torch Tensor\n",
    "# X_train = torch.from_numpy(np.float32(X_train))\n",
    "# y_train = torch.from_numpy(y_train.astype(np.long))\n",
    "# X_valid = torch.from_numpy(np.float32(X_valid))\n",
    "# y_valid = torch.from_numpy(y_valid.astype(np.long))\n",
    "\n",
    "# train = torch.utils.data.TensorDataset(X_train, y_train)\n",
    "# valid = torch.utils.data.TensorDataset(X_valid, y_valid)"
   ]
  },
  {
   "cell_type": "code",
   "execution_count": 230,
   "metadata": {
    "colab": {
     "base_uri": "https://localhost:8080/",
     "height": 35
    },
    "colab_type": "code",
    "id": "C-HcoFdIFGIB",
    "outputId": "3d719921-46bf-4a8f-ae81-340f4147b5c6"
   },
   "outputs": [
    {
     "data": {
      "text/plain": [
       "((3360, 32, 32), array([[92, 92, 92, 92, ..., 92, 92, 92, 92],\n",
       "        [92, 92, 92, 92, ..., 92, 92, 92, 92],\n",
       "        [92, 92, 92, 92, ..., 92, 92, 92, 92],\n",
       "        [92, 92, 92, 92, ..., 92, 92, 92, 92],\n",
       "        ...,\n",
       "        [92, 92, 92, 92, ..., 92, 92, 92, 92],\n",
       "        [92, 92, 92, 92, ..., 92, 92, 92, 92],\n",
       "        [92, 92, 92, 92, ..., 92, 92, 92, 92],\n",
       "        [92, 92, 92, 92, ..., 92, 92, 92, 92]], dtype=uint8))"
      ]
     },
     "execution_count": 230,
     "metadata": {},
     "output_type": "execute_result"
    }
   ],
   "source": [
    "test_x_reshaped.shape, test_x_reshaped[0]"
   ]
  },
  {
   "cell_type": "code",
   "execution_count": 231,
   "metadata": {
    "colab": {},
    "colab_type": "code",
    "id": "TyYczYXvu0Lr"
   },
   "outputs": [],
   "source": [
    "AM = ArabicMnist(test_x_reshaped[:2720], test_y[:2720])\n",
    "AMV = ArabicMnist(test_x_reshaped[2720:], test_y[2720:])"
   ]
  },
  {
   "cell_type": "markdown",
   "metadata": {},
   "source": [
    "#### TensorDataset"
   ]
  },
  {
   "cell_type": "code",
   "execution_count": 8,
   "metadata": {},
   "outputs": [],
   "source": [
    "mean = test_x.mean()\n",
    "std = test_x.std()\n",
    "X_train = (test_x - mean)/std\n",
    "\n",
    "# Numpy to Torch Tensor\n",
    "X_train = torch.from_numpy(np.float32(X_train))\n",
    "y_train = torch.from_numpy(test_y.astype(np.long))\n",
    "\n",
    "X_train, y_train = X_train[:3000], y_train[:3000]\n",
    "X_valid, y_valid = X_train[3000:], y_train[3000:]\n",
    "\n",
    "train = torch.utils.data.TensorDataset(X_train, y_train)\n",
    "valid = torch.utils.data.TensorDataset(X_valid, y_valid)\n",
    "\n",
    "data = DataBunch.create(train_ds = train, valid_ds=valid)"
   ]
  },
  {
   "cell_type": "code",
   "execution_count": 9,
   "metadata": {
    "colab": {},
    "colab_type": "code",
    "id": "Klut9hBp7ehr"
   },
   "outputs": [],
   "source": [
    "# data = DataBunch.create(AM, AMV, bs=8)"
   ]
  },
  {
   "cell_type": "code",
   "execution_count": 10,
   "metadata": {},
   "outputs": [
    {
     "ename": "AttributeError",
     "evalue": "'TensorDataset' object has no attribute 'c'",
     "output_type": "error",
     "traceback": [
      "\u001b[0;31m---------------------------------------------------------------------------\u001b[0m",
      "\u001b[0;31mAttributeError\u001b[0m                            Traceback (most recent call last)",
      "\u001b[0;32m<ipython-input-10-81454535cacc>\u001b[0m in \u001b[0;36m<module>\u001b[0;34m()\u001b[0m\n\u001b[0;32m----> 1\u001b[0;31m \u001b[0mdata\u001b[0m\u001b[0;34m.\u001b[0m\u001b[0mc\u001b[0m\u001b[0;34m\u001b[0m\u001b[0m\n\u001b[0m",
      "\u001b[0;32m~/.anaconda3/lib/python3.7/site-packages/fastai/basic_data.py\u001b[0m in \u001b[0;36m__getattr__\u001b[0;34m(self, k)\u001b[0m\n\u001b[1;32m     99\u001b[0m         \u001b[0;32mreturn\u001b[0m \u001b[0mcls\u001b[0m\u001b[0;34m(\u001b[0m\u001b[0;34m*\u001b[0m\u001b[0mdls\u001b[0m\u001b[0;34m,\u001b[0m \u001b[0mpath\u001b[0m\u001b[0;34m=\u001b[0m\u001b[0mpath\u001b[0m\u001b[0;34m,\u001b[0m \u001b[0mdevice\u001b[0m\u001b[0;34m=\u001b[0m\u001b[0mdevice\u001b[0m\u001b[0;34m,\u001b[0m \u001b[0mtfms\u001b[0m\u001b[0;34m=\u001b[0m\u001b[0mtfms\u001b[0m\u001b[0;34m,\u001b[0m \u001b[0mcollate_fn\u001b[0m\u001b[0;34m=\u001b[0m\u001b[0mcollate_fn\u001b[0m\u001b[0;34m)\u001b[0m\u001b[0;34m\u001b[0m\u001b[0m\n\u001b[1;32m    100\u001b[0m \u001b[0;34m\u001b[0m\u001b[0m\n\u001b[0;32m--> 101\u001b[0;31m     \u001b[0;32mdef\u001b[0m \u001b[0m__getattr__\u001b[0m\u001b[0;34m(\u001b[0m\u001b[0mself\u001b[0m\u001b[0;34m,\u001b[0m\u001b[0mk\u001b[0m\u001b[0;34m:\u001b[0m\u001b[0mint\u001b[0m\u001b[0;34m)\u001b[0m\u001b[0;34m->\u001b[0m\u001b[0mAny\u001b[0m\u001b[0;34m:\u001b[0m \u001b[0;32mreturn\u001b[0m \u001b[0mgetattr\u001b[0m\u001b[0;34m(\u001b[0m\u001b[0mself\u001b[0m\u001b[0;34m.\u001b[0m\u001b[0mtrain_dl\u001b[0m\u001b[0;34m,\u001b[0m \u001b[0mk\u001b[0m\u001b[0;34m)\u001b[0m\u001b[0;34m\u001b[0m\u001b[0m\n\u001b[0m\u001b[1;32m    102\u001b[0m     \u001b[0;32mdef\u001b[0m \u001b[0mdl\u001b[0m\u001b[0;34m(\u001b[0m\u001b[0mself\u001b[0m\u001b[0;34m,\u001b[0m \u001b[0mds_type\u001b[0m\u001b[0;34m:\u001b[0m\u001b[0mDatasetType\u001b[0m\u001b[0;34m=\u001b[0m\u001b[0mDatasetType\u001b[0m\u001b[0;34m.\u001b[0m\u001b[0mValid\u001b[0m\u001b[0;34m)\u001b[0m\u001b[0;34m->\u001b[0m\u001b[0mDeviceDataLoader\u001b[0m\u001b[0;34m:\u001b[0m\u001b[0;34m\u001b[0m\u001b[0m\n\u001b[1;32m    103\u001b[0m         \u001b[0;34m\"Returns appropriate `Dataset` for validation, training, or test (`ds_type`).\"\u001b[0m\u001b[0;34m\u001b[0m\u001b[0m\n",
      "\u001b[0;32m~/.anaconda3/lib/python3.7/site-packages/fastai/basic_data.py\u001b[0m in \u001b[0;36m__getattr__\u001b[0;34m(self, k)\u001b[0m\n\u001b[1;32m     22\u001b[0m \u001b[0;34m\u001b[0m\u001b[0m\n\u001b[1;32m     23\u001b[0m     \u001b[0;32mdef\u001b[0m \u001b[0m__len__\u001b[0m\u001b[0;34m(\u001b[0m\u001b[0mself\u001b[0m\u001b[0;34m)\u001b[0m\u001b[0;34m->\u001b[0m\u001b[0mint\u001b[0m\u001b[0;34m:\u001b[0m \u001b[0;32mreturn\u001b[0m \u001b[0mlen\u001b[0m\u001b[0;34m(\u001b[0m\u001b[0mself\u001b[0m\u001b[0;34m.\u001b[0m\u001b[0mdl\u001b[0m\u001b[0;34m)\u001b[0m\u001b[0;34m\u001b[0m\u001b[0m\n\u001b[0;32m---> 24\u001b[0;31m     \u001b[0;32mdef\u001b[0m \u001b[0m__getattr__\u001b[0m\u001b[0;34m(\u001b[0m\u001b[0mself\u001b[0m\u001b[0;34m,\u001b[0m\u001b[0mk\u001b[0m\u001b[0;34m:\u001b[0m\u001b[0mstr\u001b[0m\u001b[0;34m)\u001b[0m\u001b[0;34m->\u001b[0m\u001b[0mAny\u001b[0m\u001b[0;34m:\u001b[0m \u001b[0;32mreturn\u001b[0m \u001b[0mgetattr\u001b[0m\u001b[0;34m(\u001b[0m\u001b[0mself\u001b[0m\u001b[0;34m.\u001b[0m\u001b[0mdl\u001b[0m\u001b[0;34m,\u001b[0m \u001b[0mk\u001b[0m\u001b[0;34m)\u001b[0m\u001b[0;34m\u001b[0m\u001b[0m\n\u001b[0m\u001b[1;32m     25\u001b[0m \u001b[0;34m\u001b[0m\u001b[0m\n\u001b[1;32m     26\u001b[0m     \u001b[0;34m@\u001b[0m\u001b[0mproperty\u001b[0m\u001b[0;34m\u001b[0m\u001b[0m\n",
      "\u001b[0;32m~/.anaconda3/lib/python3.7/site-packages/fastai/basic_data.py\u001b[0m in \u001b[0;36mDataLoader___getattr__\u001b[0;34m(dl, k)\u001b[0m\n\u001b[1;32m      6\u001b[0m \u001b[0m__all__\u001b[0m \u001b[0;34m=\u001b[0m \u001b[0;34m[\u001b[0m\u001b[0;34m'DataBunch'\u001b[0m\u001b[0;34m,\u001b[0m \u001b[0;34m'DeviceDataLoader'\u001b[0m\u001b[0;34m,\u001b[0m \u001b[0;34m'DatasetType'\u001b[0m\u001b[0;34m]\u001b[0m\u001b[0;34m\u001b[0m\u001b[0m\n\u001b[1;32m      7\u001b[0m \u001b[0;34m\u001b[0m\u001b[0m\n\u001b[0;32m----> 8\u001b[0;31m \u001b[0;32mdef\u001b[0m \u001b[0mDataLoader___getattr__\u001b[0m\u001b[0;34m(\u001b[0m\u001b[0mdl\u001b[0m\u001b[0;34m,\u001b[0m \u001b[0mk\u001b[0m\u001b[0;34m:\u001b[0m\u001b[0mstr\u001b[0m\u001b[0;34m)\u001b[0m\u001b[0;34m->\u001b[0m\u001b[0mAny\u001b[0m\u001b[0;34m:\u001b[0m \u001b[0;32mreturn\u001b[0m \u001b[0mgetattr\u001b[0m\u001b[0;34m(\u001b[0m\u001b[0mdl\u001b[0m\u001b[0;34m.\u001b[0m\u001b[0mdataset\u001b[0m\u001b[0;34m,\u001b[0m \u001b[0mk\u001b[0m\u001b[0;34m)\u001b[0m\u001b[0;34m\u001b[0m\u001b[0m\n\u001b[0m\u001b[1;32m      9\u001b[0m \u001b[0mDataLoader\u001b[0m\u001b[0;34m.\u001b[0m\u001b[0m__getattr__\u001b[0m \u001b[0;34m=\u001b[0m \u001b[0mDataLoader___getattr__\u001b[0m\u001b[0;34m\u001b[0m\u001b[0m\n\u001b[1;32m     10\u001b[0m \u001b[0;34m\u001b[0m\u001b[0m\n",
      "\u001b[0;31mAttributeError\u001b[0m: 'TensorDataset' object has no attribute 'c'"
     ]
    }
   ],
   "source": [
    "data.c"
   ]
  },
  {
   "cell_type": "code",
   "execution_count": 234,
   "metadata": {},
   "outputs": [],
   "source": [
    "# img1 = data.train_ds[0]\n",
    "# img1"
   ]
  },
  {
   "cell_type": "code",
   "execution_count": 235,
   "metadata": {
    "colab": {},
    "colab_type": "code",
    "id": "xYhO0iIl7el4"
   },
   "outputs": [],
   "source": [
    "learn = create_cnn(data, models.resnet18, metrics=error_rate)"
   ]
  },
  {
   "cell_type": "code",
   "execution_count": 236,
   "metadata": {},
   "outputs": [
    {
     "name": "stdout",
     "output_type": "stream",
     "text": [
      "Total time: 00:30\n",
      "epoch  train_loss  valid_loss  error_rate\n",
      "1      -0.033194   -0.060467   0.965625    (00:10)\n",
      "2      0.045981    -0.042905   0.964063    (00:10)\n",
      "3      -0.035805   -0.015229   0.957812    (00:09)\n",
      "\n"
     ]
    }
   ],
   "source": [
    "# %%debug\n",
    "learn.fit(3, 1e-9)"
   ]
  },
  {
   "cell_type": "code",
   "execution_count": 13,
   "metadata": {},
   "outputs": [],
   "source": [
    "class ArabicMnist(Dataset):\n",
    "    def __init__(self, X, y=None):\n",
    "        super().__init__()\n",
    "        self.classes = np.unique(y)\n",
    "        self.c = len(np.unique(y))\n",
    "        self.X = X\n",
    "        if y is not None: self.y = y\n",
    "\n",
    "    def __getitem__(self, i):\n",
    "        image = self.X[i]\n",
    "        arr = (image - image.mean()) / image.std() # normalizes between -1 and +1\n",
    "        arr = (arr + 1) / 2 * 255 # moves it between 0 and 255\n",
    "#         arr /= 255.0  ## WITH RANGE [0, 255]\n",
    "#         arr = np.clip(arr, 0, 255).astype(np.uint8),\n",
    "        arr3D = np.tile(arr[..., None], 3)\n",
    "#         arr3D = 256 - arr3D\n",
    "        arr3D = np.transpose(arr3D, (2, 1, 0))\n",
    "        new_tensor = torch.from_numpy(arr3D).float()\n",
    "        return (new_tensor, self.y[i])\n",
    "    \n",
    "    def __len__(self): return len(self.X)"
   ]
  },
  {
   "cell_type": "code",
   "execution_count": 14,
   "metadata": {},
   "outputs": [],
   "source": [
    "AM = ArabicMnist(test_x_reshaped[:2720], test_y[:2720])\n",
    "AMV = ArabicMnist(test_x_reshaped[2720:], test_y[2720:])"
   ]
  },
  {
   "cell_type": "code",
   "execution_count": 15,
   "metadata": {},
   "outputs": [],
   "source": [
    "data = DataBunch.create(AM, AMV, bs=8)"
   ]
  },
  {
   "cell_type": "code",
   "execution_count": 16,
   "metadata": {},
   "outputs": [],
   "source": [
    "learn = create_cnn(data, models.resnet18, metrics=error_rate)"
   ]
  },
  {
   "cell_type": "code",
   "execution_count": 17,
   "metadata": {},
   "outputs": [
    {
     "name": "stdout",
     "output_type": "stream",
     "text": [
      "Total time: 00:29\n",
      "epoch  train_loss  valid_loss  error_rate\n",
      "1      0.005595    0.063722    0.970312    (00:09)\n",
      "2      0.052280    -0.058503   0.956250    (00:09)\n",
      "3      -0.036031   -0.035565   0.960938    (00:09)\n",
      "\n"
     ]
    }
   ],
   "source": [
    "# %%debug\n",
    "learn.fit(3, 1e-9)"
   ]
  }
 ],
 "metadata": {
  "accelerator": "GPU",
  "colab": {
   "name": "ARCHAR.ipynb",
   "provenance": [],
   "version": "0.3.2"
  },
  "kernelspec": {
   "display_name": "Python 3",
   "language": "python",
   "name": "python3"
  },
  "language_info": {
   "codemirror_mode": {
    "name": "ipython",
    "version": 3
   },
   "file_extension": ".py",
   "mimetype": "text/x-python",
   "name": "python",
   "nbconvert_exporter": "python",
   "pygments_lexer": "ipython3",
   "version": "3.7.0"
  }
 },
 "nbformat": 4,
 "nbformat_minor": 1
}
