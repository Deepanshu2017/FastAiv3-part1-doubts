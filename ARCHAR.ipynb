{
 "cells": [
  {
   "cell_type": "code",
   "execution_count": 1,
   "metadata": {
    "colab": {},
    "colab_type": "code",
    "id": "aNA1QzeXter9"
   },
   "outputs": [],
   "source": [
    "import numpy as np\n",
    "from fastai import *\n",
    "from fastai.vision import *\n",
    "import torch\n",
    "import os\n",
    "from torchvision import transforms"
   ]
  },
  {
   "cell_type": "markdown",
   "metadata": {
    "colab_type": "text",
    "id": "I1yePuLDPp1q"
   },
   "source": [
    "**data from https://www.kaggle.com/mloey1/ahcd1**"
   ]
  },
  {
   "cell_type": "code",
   "execution_count": 2,
   "metadata": {},
   "outputs": [],
   "source": [
    "data_path = Path('data')"
   ]
  },
  {
   "cell_type": "code",
   "execution_count": 9,
   "metadata": {
    "colab": {},
    "colab_type": "code",
    "id": "NKRpEDv-teux"
   },
   "outputs": [
    {
     "data": {
      "text/plain": [
       "((3360, 1024), (3360,), (1024,), 27, 0, 255.0)"
      ]
     },
     "execution_count": 9,
     "metadata": {},
     "output_type": "execute_result"
    }
   ],
   "source": [
    "test_x = np.genfromtxt(data_path/'csvTestImages 3360x1024.csv', delimiter=',')\n",
    "test_y = np.genfromtxt(data_path/'csvTestLabel 3360x1.csv', delimiter=',')\n",
    "test_y = test_y.astype(int) - 1\n",
    "test_x = test_x.astype(float)\n",
    "\n",
    "\n",
    "test_x.shape, test_y.shape, test_x[0].shape, test_y.max(), test_y.min(), max(test_x.max(axis=1))"
   ]
  },
  {
   "cell_type": "code",
   "execution_count": 27,
   "metadata": {
    "colab": {},
    "colab_type": "code",
    "id": "OGVOctF1BIZQ"
   },
   "outputs": [],
   "source": [
    "class ArabicMnist(Dataset):\n",
    "    def __init__(self, X, y=None):\n",
    "        super().__init__()\n",
    "        self.classes = np.unique(y)\n",
    "        self.c = len(np.unique(y))\n",
    "        self.X = X\n",
    "        if y is not None: self.y = y\n",
    "\n",
    "    def __getitem__(self, i):\n",
    "        image = self.X[i]\n",
    "        arr = (image - image.mean()) / image.std() # normalizes between -1 and +1\n",
    "        arr = (arr + 1) / 2 * 255 # moves it between 0 and 255\n",
    "#         arr = np.clip(arr, 0, 255).astype(np.uint8),\n",
    "        arr3D = np.tile(arr[...,None],3)\n",
    "#         arr3D = 256 - arr3D\n",
    "        arr3D = np.transpose(arr3D, (2, 1, 0))\n",
    "        new_tensor = torch.from_numpy(arr3D).float()\n",
    "        return (new_tensor, self.y[i])\n",
    "    \n",
    "    def __len__(self): return len(self.X)"
   ]
  },
  {
   "cell_type": "code",
   "execution_count": 28,
   "metadata": {
    "colab": {},
    "colab_type": "code",
    "id": "DkdnXSB4EqcZ"
   },
   "outputs": [],
   "source": [
    "test_x_reshaped = test_x.reshape([-1, 32, 32])"
   ]
  },
  {
   "cell_type": "code",
   "execution_count": 29,
   "metadata": {
    "colab": {
     "base_uri": "https://localhost:8080/",
     "height": 35
    },
    "colab_type": "code",
    "id": "C-HcoFdIFGIB",
    "outputId": "3d719921-46bf-4a8f-ae81-340f4147b5c6"
   },
   "outputs": [
    {
     "data": {
      "text/plain": [
       "((3360, 32, 32), (3360,))"
      ]
     },
     "execution_count": 29,
     "metadata": {},
     "output_type": "execute_result"
    }
   ],
   "source": [
    "test_x_reshaped.shape, test_y.shape"
   ]
  },
  {
   "cell_type": "code",
   "execution_count": 30,
   "metadata": {
    "colab": {},
    "colab_type": "code",
    "id": "TyYczYXvu0Lr"
   },
   "outputs": [],
   "source": [
    "AM = ArabicMnist(test_x_reshaped[:2720], test_y[:2720])\n",
    "AMV = ArabicMnist(test_x_reshaped[2720:], test_y[2720:])"
   ]
  },
  {
   "cell_type": "code",
   "execution_count": 31,
   "metadata": {
    "colab": {},
    "colab_type": "code",
    "id": "Klut9hBp7ehr"
   },
   "outputs": [],
   "source": [
    "data = DataBunch.create(AM, AMV, bs=8)\n"
   ]
  },
  {
   "cell_type": "code",
   "execution_count": 32,
   "metadata": {
    "colab": {},
    "colab_type": "code",
    "id": "xYhO0iIl7el4"
   },
   "outputs": [],
   "source": [
    "learn = create_cnn(data, models.resnet18, metrics=error_rate)"
   ]
  },
  {
   "cell_type": "code",
   "execution_count": 33,
   "metadata": {},
   "outputs": [
    {
     "name": "stdout",
     "output_type": "stream",
     "text": [
      "Total time: 01:38\n",
      "epoch  train_loss  valid_loss  error_rate\n",
      "1      0.014538    -0.041725   0.964063    (00:09)\n",
      "2      -0.040858   -0.014340   0.956250    (00:09)\n",
      "3      -0.091720   -0.062538   0.968750    (00:09)\n",
      "4      0.009249    -0.020415   0.967188    (00:09)\n",
      "5      0.043340    0.002689    0.962500    (00:09)\n",
      "6      0.051320    -0.042611   0.971875    (00:09)\n",
      "7      -0.065322   -0.011302   0.973437    (00:09)\n",
      "8      0.009185    0.012544    0.973437    (00:09)\n",
      "9      0.044579    -0.020431   0.970312    (00:09)\n",
      "10     0.015424    0.010244    0.973437    (00:09)\n",
      "\n"
     ]
    }
   ],
   "source": [
    "# %%debug\n",
    "learn.fit(10, 1e-9)"
   ]
  },
  {
   "cell_type": "code",
   "execution_count": null,
   "metadata": {},
   "outputs": [],
   "source": []
  }
 ],
 "metadata": {
  "accelerator": "GPU",
  "colab": {
   "name": "ARCHAR.ipynb",
   "provenance": [],
   "version": "0.3.2"
  },
  "kernelspec": {
   "display_name": "Python 3",
   "language": "python",
   "name": "python3"
  },
  "language_info": {
   "codemirror_mode": {
    "name": "ipython",
    "version": 3
   },
   "file_extension": ".py",
   "mimetype": "text/x-python",
   "name": "python",
   "nbconvert_exporter": "python",
   "pygments_lexer": "ipython3",
   "version": "3.7.0"
  }
 },
 "nbformat": 4,
 "nbformat_minor": 1
}
