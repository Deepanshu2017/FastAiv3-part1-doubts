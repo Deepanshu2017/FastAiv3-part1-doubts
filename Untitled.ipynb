{
 "cells": [
  {
   "cell_type": "code",
   "execution_count": 3,
   "metadata": {},
   "outputs": [],
   "source": [
    "import torch\n",
    "import numpy as np"
   ]
  },
  {
   "cell_type": "code",
   "execution_count": 2,
   "metadata": {},
   "outputs": [],
   "source": [
    "loss_func = torch.nn.functional.nll_loss"
   ]
  },
  {
   "cell_type": "code",
   "execution_count": 65,
   "metadata": {},
   "outputs": [],
   "source": [
    "input = np.array(\n",
    "[\n",
    "        [-1.9886, -1.1837, -0.3249,  2.2357, -1.6458,  1.3911, -0.0552,  0.0754,\n",
    "         -0.1618, -1.4367,  0.4986, -1.1787,  1.7489,  0.2353, -0.7328, -3.3335,\n",
    "          0.2182, -0.5870, -1.3804, -0.8558, -2.5841, -1.2374,  0.4220, -2.3545,\n",
    "          0.7139, -0.0389,  1.9208, -0.1402]]\n",
    ")\n",
    "input = torch.from_numpy(input)"
   ]
  },
  {
   "cell_type": "code",
   "execution_count": 66,
   "metadata": {},
   "outputs": [],
   "source": [
    "target = torch.tensor([27])"
   ]
  },
  {
   "cell_type": "code",
   "execution_count": 67,
   "metadata": {},
   "outputs": [
    {
     "data": {
      "text/plain": [
       "tensor(0.1402, dtype=torch.float64)"
      ]
     },
     "execution_count": 67,
     "metadata": {},
     "output_type": "execute_result"
    }
   ],
   "source": [
    "loss_func(input, target)"
   ]
  },
  {
   "cell_type": "code",
   "execution_count": 68,
   "metadata": {},
   "outputs": [],
   "source": [
    "input = np.array([[ 0.1522, -2.2715, -1.3786,  0.6311, -0.5731,  0.2796,  0.4587,  1.0201,\n",
    "          0.9628,  1.6846,  0.3345,  0.0577, -3.7535,  0.2930, -1.8554,  2.7535,\n",
    "          2.0865,  2.1782,  1.1023,  0.6982, -0.2040, -1.5314, -2.0173,  1.2826,\n",
    "         -2.0390,  0.6196, -1.6110,  1.1380]])\n",
    "input = torch.from_numpy(input)\n",
    "target = torch.tensor([11])"
   ]
  },
  {
   "cell_type": "code",
   "execution_count": 69,
   "metadata": {},
   "outputs": [
    {
     "data": {
      "text/plain": [
       "tensor(-0.0577, dtype=torch.float64)"
      ]
     },
     "execution_count": 69,
     "metadata": {},
     "output_type": "execute_result"
    }
   ],
   "source": [
    "loss_func(input, target)"
   ]
  },
  {
   "cell_type": "code",
   "execution_count": null,
   "metadata": {},
   "outputs": [],
   "source": []
  },
  {
   "cell_type": "code",
   "execution_count": 55,
   "metadata": {},
   "outputs": [
    {
     "data": {
      "text/plain": [
       "-4.1809218716791055"
      ]
     },
     "execution_count": 55,
     "metadata": {},
     "output_type": "execute_result"
    }
   ],
   "source": [
    "exps = np.exp(p)\n",
    "exps_sum = np.sum(exps)\n",
    "softmax = [np.exp(i) / exps_sum for i in p]\n",
    "np.log(softmax[11])"
   ]
  },
  {
   "cell_type": "code",
   "execution_count": null,
   "metadata": {},
   "outputs": [],
   "source": []
  },
  {
   "cell_type": "code",
   "execution_count": null,
   "metadata": {},
   "outputs": [],
   "source": []
  },
  {
   "cell_type": "code",
   "execution_count": 19,
   "metadata": {},
   "outputs": [],
   "source": [
    "p = [[-1.9886, -1.1837, -0.3249,  2.2357, -1.6458,  1.3911, -0.0552,  0.0754,\n",
    "         -0.1618, -1.4367,  0.4986, -1.1787,  1.7489,  0.2353, -0.7328, -3.3335,\n",
    "          0.2182, -0.5870, -1.3804, -0.8558, -2.5841, -1.2374,  0.4220, -2.3545,\n",
    "          0.7139, -0.0389,  1.9208, -0.1402],\n",
    "        [ 0.1522, -2.2715, -1.3786,  0.6311, -0.5731,  0.2796,  0.4587,  1.0201,\n",
    "          0.9628,  1.6846,  0.3345,  0.0577, -3.7535,  0.2930, -1.8554,  2.7535,\n",
    "          2.0865,  2.1782,  1.1023,  0.6982, -0.2040, -1.5314, -2.0173,  1.2826,\n",
    "         -2.0390,  0.6196, -1.6110,  1.1380],\n",
    "        [-1.4934,  1.2877,  1.2301,  0.8397, -0.2605, -0.4108, -0.1162, -0.0127,\n",
    "         -0.5296, -1.3458,  0.0971, -0.0192,  0.9548, -0.8856, -0.1749,  1.4402,\n",
    "         -3.2704, -2.2977,  0.3058,  0.7494,  1.1575,  1.4228, -2.5238, -0.4263,\n",
    "         -0.0215,  0.1446,  0.5838, -1.0724],\n",
    "        [ 0.7186,  0.4573, -0.7645, -0.3047,  1.7143, -0.6712,  0.2323,  0.4133,\n",
    "         -2.2368, -1.7422,  0.1292, -0.9680, -0.1898, -0.2335, -0.1021, -0.3686,\n",
    "         -1.6352,  0.1910, -1.1089, -1.9973,  1.2290, -1.2054,  0.5539, -1.0763,\n",
    "          0.5572,  0.0751,  0.2630, -1.3728],\n",
    "        [ 1.3955,  0.3822, -0.8568, -0.0799, -0.6179,  0.5836,  0.7432, -0.0898,\n",
    "          0.0111,  0.7037, -0.1367,  0.9503, -0.9254,  0.2372,  1.5130,  1.1299,\n",
    "          0.4301,  1.6598, -0.5448,  1.2169, -0.3608,  0.5967, -0.1027,  2.4973,\n",
    "          0.2499,  1.1518, -0.0921,  0.5111],\n",
    "        [ 0.9263, -0.1903,  0.3372, -1.9015, -0.7478,  0.5427, -1.2189,  0.2365,\n",
    "         -0.9217,  0.2690, -0.4224, -0.9078, -0.0125, -0.2497, -2.6230, -1.2723,\n",
    "         -0.4266, -0.9357,  1.8257,  0.5747,  0.9939,  0.4219, -0.3280,  1.4744,\n",
    "         -1.0599,  2.3171, -1.4778, -0.3468],\n",
    "        [-2.9993, -0.1236,  0.2391,  0.5725,  0.7890,  0.0987,  1.5311, -0.2846,\n",
    "         -0.3033,  0.1249,  0.6599, -0.0183,  0.6876, -1.7575, -1.0960, -0.4852,\n",
    "          0.1889, -3.7158,  0.7440, -0.1047,  0.7175,  0.7568, -0.7455,  1.4360,\n",
    "         -0.1048, -2.8733, -0.1816, -0.4613],\n",
    "        [-1.7608,  0.0431,  2.5542, -2.0867, -1.1791, -0.3509,  0.6199, -0.1347,\n",
    "          0.5405,  1.5363, -1.6492, -0.4065,  1.8336,  1.9272,  1.5820, -2.4794,\n",
    "          1.0224,  1.4774, -1.2104, -1.1722, -0.5000, -2.0888,  0.7167, -0.2540,\n",
    "          0.5325,  0.3092,  0.8569,  0.2954]]\n",
    "\n",
    "t = [27, 11,  1, 15, 14, 13, 13, 25]"
   ]
  },
  {
   "cell_type": "code",
   "execution_count": 28,
   "metadata": {},
   "outputs": [
    {
     "ename": "ValueError",
     "evalue": "math domain error",
     "output_type": "error",
     "traceback": [
      "\u001b[0;31m---------------------------------------------------------------------------\u001b[0m",
      "\u001b[0;31mValueError\u001b[0m                                Traceback (most recent call last)",
      "\u001b[0;32m<ipython-input-28-212d55332095>\u001b[0m in \u001b[0;36m<module>\u001b[0;34m()\u001b[0m\n\u001b[1;32m      1\u001b[0m \u001b[0mtotal\u001b[0m \u001b[0;34m=\u001b[0m \u001b[0;36m0\u001b[0m\u001b[0;34m\u001b[0m\u001b[0m\n\u001b[1;32m      2\u001b[0m \u001b[0;32mfor\u001b[0m \u001b[0mi\u001b[0m \u001b[0;32min\u001b[0m \u001b[0mrange\u001b[0m\u001b[0;34m(\u001b[0m\u001b[0mlen\u001b[0m\u001b[0;34m(\u001b[0m\u001b[0mt\u001b[0m\u001b[0;34m)\u001b[0m\u001b[0;34m)\u001b[0m\u001b[0;34m:\u001b[0m\u001b[0;34m\u001b[0m\u001b[0m\n\u001b[0;32m----> 3\u001b[0;31m     \u001b[0mprint\u001b[0m\u001b[0;34m(\u001b[0m\u001b[0mi\u001b[0m\u001b[0;34m,\u001b[0m \u001b[0;34m\":\"\u001b[0m\u001b[0;34m,\u001b[0m  \u001b[0mtotal\u001b[0m\u001b[0;34m,\u001b[0m \u001b[0;34m\" log:\"\u001b[0m\u001b[0;34m,\u001b[0m \u001b[0mmath\u001b[0m\u001b[0;34m.\u001b[0m\u001b[0mlog\u001b[0m\u001b[0;34m(\u001b[0m\u001b[0mp\u001b[0m\u001b[0;34m[\u001b[0m\u001b[0mi\u001b[0m\u001b[0;34m]\u001b[0m\u001b[0;34m[\u001b[0m\u001b[0mt\u001b[0m\u001b[0;34m[\u001b[0m\u001b[0mi\u001b[0m\u001b[0;34m]\u001b[0m\u001b[0;34m]\u001b[0m\u001b[0;34m)\u001b[0m\u001b[0;34m)\u001b[0m\u001b[0;34m\u001b[0m\u001b[0m\n\u001b[0m",
      "\u001b[0;31mValueError\u001b[0m: math domain error"
     ]
    }
   ],
   "source": [
    "total = 0\n",
    "for i in range(len(t)):\n",
    "    print(i, \":\",  total, \" log:\", math.log(p[i][t[i]]))"
   ]
  },
  {
   "cell_type": "code",
   "execution_count": null,
   "metadata": {},
   "outputs": [],
   "source": []
  }
 ],
 "metadata": {
  "kernelspec": {
   "display_name": "Python 3",
   "language": "python",
   "name": "python3"
  },
  "language_info": {
   "codemirror_mode": {
    "name": "ipython",
    "version": 3
   },
   "file_extension": ".py",
   "mimetype": "text/x-python",
   "name": "python",
   "nbconvert_exporter": "python",
   "pygments_lexer": "ipython3",
   "version": "3.7.0"
  }
 },
 "nbformat": 4,
 "nbformat_minor": 2
}
