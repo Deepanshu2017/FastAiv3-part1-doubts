{
 "cells": [
  {
   "cell_type": "code",
   "execution_count": 4,
   "metadata": {},
   "outputs": [],
   "source": [
    "from fastai import *\n",
    "from fastai.text import *"
   ]
  },
  {
   "cell_type": "code",
   "execution_count": 5,
   "metadata": {},
   "outputs": [
    {
     "data": {
      "text/plain": [
       "[PosixPath('/home/nbuser/courses/fast-ai/course-v3/nbs/data/amazon/Amazon_Unlocked_Mobile.csv'),\n",
       " PosixPath('/home/nbuser/courses/fast-ai/course-v3/nbs/data/amazon/tmp_class'),\n",
       " PosixPath('/home/nbuser/courses/fast-ai/course-v3/nbs/data/amazon/models'),\n",
       " PosixPath('/home/nbuser/courses/fast-ai/course-v3/nbs/data/amazon/amazon_data_lm')]"
      ]
     },
     "execution_count": 5,
     "metadata": {},
     "output_type": "execute_result"
    }
   ],
   "source": [
    "path = Path('/home/nbuser/courses/fast-ai/course-v3/nbs/data/amazon')\n",
    "path.ls()"
   ]
  },
  {
   "cell_type": "code",
   "execution_count": 6,
   "metadata": {},
   "outputs": [
    {
     "name": "stdout",
     "output_type": "stream",
     "text": [
      "413840\n"
     ]
    },
    {
     "data": {
      "text/html": [
       "<div>\n",
       "<style scoped>\n",
       "    .dataframe tbody tr th:only-of-type {\n",
       "        vertical-align: middle;\n",
       "    }\n",
       "\n",
       "    .dataframe tbody tr th {\n",
       "        vertical-align: top;\n",
       "    }\n",
       "\n",
       "    .dataframe thead th {\n",
       "        text-align: right;\n",
       "    }\n",
       "</style>\n",
       "<table border=\"1\" class=\"dataframe\">\n",
       "  <thead>\n",
       "    <tr style=\"text-align: right;\">\n",
       "      <th></th>\n",
       "      <th>Product Name</th>\n",
       "      <th>Brand Name</th>\n",
       "      <th>Price</th>\n",
       "      <th>Rating</th>\n",
       "      <th>Reviews</th>\n",
       "      <th>Review Votes</th>\n",
       "      <th>response</th>\n",
       "    </tr>\n",
       "  </thead>\n",
       "  <tbody>\n",
       "    <tr>\n",
       "      <th>0</th>\n",
       "      <td>\"CLEAR CLEAN ESN\" Sprint EPIC 4G Galaxy SPH-D7...</td>\n",
       "      <td>Samsung</td>\n",
       "      <td>199.99</td>\n",
       "      <td>5</td>\n",
       "      <td>I feel so LUCKY to have found this used (phone...</td>\n",
       "      <td>1.0</td>\n",
       "      <td>positive</td>\n",
       "    </tr>\n",
       "    <tr>\n",
       "      <th>1</th>\n",
       "      <td>\"CLEAR CLEAN ESN\" Sprint EPIC 4G Galaxy SPH-D7...</td>\n",
       "      <td>Samsung</td>\n",
       "      <td>199.99</td>\n",
       "      <td>4</td>\n",
       "      <td>nice phone, nice up grade from my pantach revu...</td>\n",
       "      <td>0.0</td>\n",
       "      <td>positive</td>\n",
       "    </tr>\n",
       "    <tr>\n",
       "      <th>2</th>\n",
       "      <td>\"CLEAR CLEAN ESN\" Sprint EPIC 4G Galaxy SPH-D7...</td>\n",
       "      <td>Samsung</td>\n",
       "      <td>199.99</td>\n",
       "      <td>5</td>\n",
       "      <td>Very pleased</td>\n",
       "      <td>0.0</td>\n",
       "      <td>positive</td>\n",
       "    </tr>\n",
       "    <tr>\n",
       "      <th>3</th>\n",
       "      <td>\"CLEAR CLEAN ESN\" Sprint EPIC 4G Galaxy SPH-D7...</td>\n",
       "      <td>Samsung</td>\n",
       "      <td>199.99</td>\n",
       "      <td>4</td>\n",
       "      <td>It works good but it goes slow sometimes but i...</td>\n",
       "      <td>0.0</td>\n",
       "      <td>positive</td>\n",
       "    </tr>\n",
       "    <tr>\n",
       "      <th>4</th>\n",
       "      <td>\"CLEAR CLEAN ESN\" Sprint EPIC 4G Galaxy SPH-D7...</td>\n",
       "      <td>Samsung</td>\n",
       "      <td>199.99</td>\n",
       "      <td>4</td>\n",
       "      <td>Great phone to replace my lost phone. The only...</td>\n",
       "      <td>0.0</td>\n",
       "      <td>positive</td>\n",
       "    </tr>\n",
       "  </tbody>\n",
       "</table>\n",
       "</div>"
      ],
      "text/plain": [
       "                                        Product Name Brand Name   Price  \\\n",
       "0  \"CLEAR CLEAN ESN\" Sprint EPIC 4G Galaxy SPH-D7...    Samsung  199.99   \n",
       "1  \"CLEAR CLEAN ESN\" Sprint EPIC 4G Galaxy SPH-D7...    Samsung  199.99   \n",
       "2  \"CLEAR CLEAN ESN\" Sprint EPIC 4G Galaxy SPH-D7...    Samsung  199.99   \n",
       "3  \"CLEAR CLEAN ESN\" Sprint EPIC 4G Galaxy SPH-D7...    Samsung  199.99   \n",
       "4  \"CLEAR CLEAN ESN\" Sprint EPIC 4G Galaxy SPH-D7...    Samsung  199.99   \n",
       "\n",
       "   Rating                                            Reviews  Review Votes  \\\n",
       "0       5  I feel so LUCKY to have found this used (phone...           1.0   \n",
       "1       4  nice phone, nice up grade from my pantach revu...           0.0   \n",
       "2       5                                       Very pleased           0.0   \n",
       "3       4  It works good but it goes slow sometimes but i...           0.0   \n",
       "4       4  Great phone to replace my lost phone. The only...           0.0   \n",
       "\n",
       "   response  \n",
       "0  positive  \n",
       "1  positive  \n",
       "2  positive  \n",
       "3  positive  \n",
       "4  positive  "
      ]
     },
     "execution_count": 6,
     "metadata": {},
     "output_type": "execute_result"
    }
   ],
   "source": [
    "df = pd.read_csv(path / 'Amazon_Unlocked_Mobile.csv')\n",
    "df[\"response\"] = np.where(df[\"Rating\"] > 3, \"positive\", (np.where(df['Rating'] < 3, \"negative\", \"neutral\")))\n",
    "df.Reviews = df.Reviews.apply(str)\n",
    "print(len(df))\n",
    "df.head(5)"
   ]
  },
  {
   "cell_type": "code",
   "execution_count": 7,
   "metadata": {},
   "outputs": [],
   "source": [
    "data_lm = (TextList.from_df(df, path, cols=4)\n",
    "           .random_split_by_pct(0.1)\n",
    "           .label_for_lm()\n",
    "           .databunch()\n",
    ")\n",
    "\n",
    "data_lm.save(\"amazon_data_lm\")"
   ]
  },
  {
   "cell_type": "code",
   "execution_count": 8,
   "metadata": {},
   "outputs": [],
   "source": [
    "data_lm = TextLMDataBunch.load(path, \"amazon_data_lm\")"
   ]
  },
  {
   "cell_type": "code",
   "execution_count": 9,
   "metadata": {},
   "outputs": [
    {
     "data": {
      "text/plain": [
       "40321"
      ]
     },
     "execution_count": 9,
     "metadata": {},
     "output_type": "execute_result"
    }
   ],
   "source": [
    "len(data_lm.vocab.itos)"
   ]
  },
  {
   "cell_type": "code",
   "execution_count": 9,
   "metadata": {},
   "outputs": [],
   "source": [
    "learn = language_model_learner(data_lm, pretrained_model=URLs.WT103, drop_mult=0.3)"
   ]
  },
  {
   "cell_type": "code",
   "execution_count": 10,
   "metadata": {
    "collapsed": true
   },
   "outputs": [
    {
     "data": {
      "text/plain": [
       "LanguageLearner(data=TextLMDataBunch;\n",
       "Train: LabelList\n",
       "y: LMLabel (372456 items)\n",
       "[Category 0, Category 0, Category 0, Category 0, Category 0]...\n",
       "Path: .\n",
       "x: LMTextList (372456 items)\n",
       "[Text xxbos i feel so xxup lucky to have found this used ( phone to us & not used hard at all ) , phone on line from someone who upgraded and sold this one . xxmaj my xxmaj son liked his old one that finally fell apart after 2.5 + years and did n't want an upgrade ! ! xxmaj thank you xxmaj seller , we really appreciate it & your honesty re : said used phone . i recommend this seller very highly & would but from them again ! !, Text xxbos nice phone , nice up grade from my pantach revue . xxmaj very clean set up and easy set up . never had an android phone but they are fantastic to say the least . perfect size for surfing and social media . great phone samsung, Text xxbos xxmaj very pleased, Text xxbos xxmaj it works good but it goes slow sometimes but its a very good phone i love it, Text xxbos xxmaj great phone to replace my lost phone . xxmaj the only thing is the volume up button does not work , but i can still go into settings to adjust . xxmaj other than that , it does the job until i am eligible to upgrade my phone again . xxmaj xxunk !]...\n",
       "Path: /home/nbuser/courses/fast-ai/course-v3/nbs/data/amazon;\n",
       "Valid: LabelList\n",
       "y: LMLabel (41384 items)\n",
       "[Category 0, Category 0, Category 0, Category 0, Category 0]...\n",
       "Path: .\n",
       "x: LMTextList (41384 items)\n",
       "[Text xxbos xxmaj mmagasa45@yaoo.com, Text xxbos xxmaj very good ! xxmaj not very large . xxmaj not very small . xxmaj just right size to me ! :d, Text xxbos excelente, Text xxbos xxmaj works as bluetooth ... cannot use my sim , xxmaj samsung xxmaj galaxy 5s ., Text xxbos xxmaj excelente producto]...\n",
       "Path: /home/nbuser/courses/fast-ai/course-v3/nbs/data/amazon;\n",
       "Test: None, model=SequentialRNN(\n",
       "  (0): RNNCore(\n",
       "    (encoder): Embedding(40405, 400, padding_idx=1)\n",
       "    (encoder_dp): EmbeddingDropout(\n",
       "      (emb): Embedding(40405, 400, padding_idx=1)\n",
       "    )\n",
       "    (rnns): ModuleList(\n",
       "      (0): WeightDropout(\n",
       "        (module): LSTM(400, 1150)\n",
       "      )\n",
       "      (1): WeightDropout(\n",
       "        (module): LSTM(1150, 1150)\n",
       "      )\n",
       "      (2): WeightDropout(\n",
       "        (module): LSTM(1150, 400)\n",
       "      )\n",
       "    )\n",
       "    (input_dp): RNNDropout()\n",
       "    (hidden_dps): ModuleList(\n",
       "      (0): RNNDropout()\n",
       "      (1): RNNDropout()\n",
       "      (2): RNNDropout()\n",
       "    )\n",
       "  )\n",
       "  (1): LinearDecoder(\n",
       "    (decoder): Linear(in_features=400, out_features=40405, bias=True)\n",
       "    (output_dp): RNNDropout()\n",
       "  )\n",
       "), opt_func=functools.partial(<class 'torch.optim.adam.Adam'>, betas=(0.9, 0.99)), loss_func=<function cross_entropy at 0x7f58d52f7400>, metrics=[<function accuracy at 0x7f58d48a36a8>], true_wd=True, bn_wd=True, wd=0.01, train_bn=True, path=PosixPath('/home/nbuser/courses/fast-ai/course-v3/nbs/data/amazon'), model_dir='models', callback_fns=[<class 'fastai.basic_train.Recorder'>], callbacks=[RNNTrainer(learn=LanguageLearner(data=TextLMDataBunch;\n",
       "Train: LabelList\n",
       "y: LMLabel (372456 items)\n",
       "[Category 0, Category 0, Category 0, Category 0, Category 0]...\n",
       "Path: .\n",
       "x: LMTextList (372456 items)\n",
       "[Text xxbos i feel so xxup lucky to have found this used ( phone to us & not used hard at all ) , phone on line from someone who upgraded and sold this one . xxmaj my xxmaj son liked his old one that finally fell apart after 2.5 + years and did n't want an upgrade ! ! xxmaj thank you xxmaj seller , we really appreciate it & your honesty re : said used phone . i recommend this seller very highly & would but from them again ! !, Text xxbos nice phone , nice up grade from my pantach revue . xxmaj very clean set up and easy set up . never had an android phone but they are fantastic to say the least . perfect size for surfing and social media . great phone samsung, Text xxbos xxmaj very pleased, Text xxbos xxmaj it works good but it goes slow sometimes but its a very good phone i love it, Text xxbos xxmaj great phone to replace my lost phone . xxmaj the only thing is the volume up button does not work , but i can still go into settings to adjust . xxmaj other than that , it does the job until i am eligible to upgrade my phone again . xxmaj xxunk !]...\n",
       "Path: /home/nbuser/courses/fast-ai/course-v3/nbs/data/amazon;\n",
       "Valid: LabelList\n",
       "y: LMLabel (41384 items)\n",
       "[Category 0, Category 0, Category 0, Category 0, Category 0]...\n",
       "Path: .\n",
       "x: LMTextList (41384 items)\n",
       "[Text xxbos xxmaj mmagasa45@yaoo.com, Text xxbos xxmaj very good ! xxmaj not very large . xxmaj not very small . xxmaj just right size to me ! :d, Text xxbos excelente, Text xxbos xxmaj works as bluetooth ... cannot use my sim , xxmaj samsung xxmaj galaxy 5s ., Text xxbos xxmaj excelente producto]...\n",
       "Path: /home/nbuser/courses/fast-ai/course-v3/nbs/data/amazon;\n",
       "Test: None, model=SequentialRNN(\n",
       "  (0): RNNCore(\n",
       "    (encoder): Embedding(40405, 400, padding_idx=1)\n",
       "    (encoder_dp): EmbeddingDropout(\n",
       "      (emb): Embedding(40405, 400, padding_idx=1)\n",
       "    )\n",
       "    (rnns): ModuleList(\n",
       "      (0): WeightDropout(\n",
       "        (module): LSTM(400, 1150)\n",
       "      )\n",
       "      (1): WeightDropout(\n",
       "        (module): LSTM(1150, 1150)\n",
       "      )\n",
       "      (2): WeightDropout(\n",
       "        (module): LSTM(1150, 400)\n",
       "      )\n",
       "    )\n",
       "    (input_dp): RNNDropout()\n",
       "    (hidden_dps): ModuleList(\n",
       "      (0): RNNDropout()\n",
       "      (1): RNNDropout()\n",
       "      (2): RNNDropout()\n",
       "    )\n",
       "  )\n",
       "  (1): LinearDecoder(\n",
       "    (decoder): Linear(in_features=400, out_features=40405, bias=True)\n",
       "    (output_dp): RNNDropout()\n",
       "  )\n",
       "), opt_func=functools.partial(<class 'torch.optim.adam.Adam'>, betas=(0.9, 0.99)), loss_func=<function cross_entropy at 0x7f58d52f7400>, metrics=[<function accuracy at 0x7f58d48a36a8>], true_wd=True, bn_wd=True, wd=0.01, train_bn=True, path=PosixPath('/home/nbuser/courses/fast-ai/course-v3/nbs/data/amazon'), model_dir='models', callback_fns=[<class 'fastai.basic_train.Recorder'>], callbacks=[...], layer_groups=[Sequential(\n",
       "  (0): WeightDropout(\n",
       "    (module): LSTM(400, 1150)\n",
       "  )\n",
       "  (1): RNNDropout()\n",
       "), Sequential(\n",
       "  (0): WeightDropout(\n",
       "    (module): LSTM(1150, 1150)\n",
       "  )\n",
       "  (1): RNNDropout()\n",
       "), Sequential(\n",
       "  (0): WeightDropout(\n",
       "    (module): LSTM(1150, 400)\n",
       "  )\n",
       "  (1): RNNDropout()\n",
       "), Sequential(\n",
       "  (0): Embedding(40405, 400, padding_idx=1)\n",
       "  (1): EmbeddingDropout(\n",
       "    (emb): Embedding(40405, 400, padding_idx=1)\n",
       "  )\n",
       "  (2): LinearDecoder(\n",
       "    (decoder): Linear(in_features=400, out_features=40405, bias=True)\n",
       "    (output_dp): RNNDropout()\n",
       "  )\n",
       ")]), bptt=70, alpha=2.0, beta=1.0, adjust=False)], layer_groups=[Sequential(\n",
       "  (0): WeightDropout(\n",
       "    (module): LSTM(400, 1150)\n",
       "  )\n",
       "  (1): RNNDropout()\n",
       "), Sequential(\n",
       "  (0): WeightDropout(\n",
       "    (module): LSTM(1150, 1150)\n",
       "  )\n",
       "  (1): RNNDropout()\n",
       "), Sequential(\n",
       "  (0): WeightDropout(\n",
       "    (module): LSTM(1150, 400)\n",
       "  )\n",
       "  (1): RNNDropout()\n",
       "), Sequential(\n",
       "  (0): Embedding(40405, 400, padding_idx=1)\n",
       "  (1): EmbeddingDropout(\n",
       "    (emb): Embedding(40405, 400, padding_idx=1)\n",
       "  )\n",
       "  (2): LinearDecoder(\n",
       "    (decoder): Linear(in_features=400, out_features=40405, bias=True)\n",
       "    (output_dp): RNNDropout()\n",
       "  )\n",
       ")])"
      ]
     },
     "execution_count": 10,
     "metadata": {},
     "output_type": "execute_result"
    }
   ],
   "source": [
    "learn"
   ]
  },
  {
   "cell_type": "code",
   "execution_count": 59,
   "metadata": {},
   "outputs": [
    {
     "name": "stdout",
     "output_type": "stream",
     "text": [
      "LR Finder is complete, type {learner_name}.recorder.plot() to see the graph.\n"
     ]
    },
    {
     "data": {
      "image/png": "[encoded data removed]",
      "text/plain": [
       "<Figure size 432x288 with 1 Axes>"
      ]
     },
     "metadata": {
      "needs_background": "light"
     },
     "output_type": "display_data"
    }
   ],
   "source": [
    "learn.lr_find()\n",
    "learn.recorder.plot()"
   ]
  },
  {
   "cell_type": "code",
   "execution_count": 60,
   "metadata": {},
   "outputs": [
    {
     "name": "stdout",
     "output_type": "stream",
     "text": [
      "Total time: 42:08\n",
      "epoch  train_loss  valid_loss  accuracy\n",
      "1      3.947014    3.806630    0.281007  (42:08)\n",
      "\n"
     ]
    }
   ],
   "source": [
    "learn.fit_one_cycle(1, 1e-2, moms=(0.8, 0.7))"
   ]
  },
  {
   "cell_type": "code",
   "execution_count": 61,
   "metadata": {},
   "outputs": [],
   "source": [
    "learn.save('fit_head')"
   ]
  },
  {
   "cell_type": "code",
   "execution_count": 17,
   "metadata": {},
   "outputs": [],
   "source": [
    "learn.unfreeze()"
   ]
  },
  {
   "cell_type": "code",
   "execution_count": 18,
   "metadata": {},
   "outputs": [
    {
     "name": "stdout",
     "output_type": "stream",
     "text": [
      "LR Finder is complete, type {learner_name}.recorder.plot() to see the graph.\n"
     ]
    }
   ],
   "source": [
    "learn.lr_find()"
   ]
  },
  {
   "cell_type": "code",
   "execution_count": 19,
   "metadata": {},
   "outputs": [
    {
     "data": {
      "image/png": "[encoded data removed]",
      "text/plain": [
       "<Figure size 432x288 with 1 Axes>"
      ]
     },
     "metadata": {
      "needs_background": "light"
     },
     "output_type": "display_data"
    }
   ],
   "source": [
    "learn.recorder.plot()"
   ]
  },
  {
   "cell_type": "code",
   "execution_count": 20,
   "metadata": {},
   "outputs": [
    {
     "name": "stdout",
     "output_type": "stream",
     "text": [
      "Total time: 2:00:39\n",
      "epoch  train_loss  valid_loss  accuracy\n",
      "1      0.852075    0.630288    0.818745  (12:01)\n",
      "2      0.551518    0.440334    0.862957  (12:07)\n",
      "3      0.453863    0.390414    0.873059  (12:01)\n",
      "4      0.417040    0.372778    0.876092  (12:03)\n",
      "5      0.401617    0.363218    0.877733  (12:06)\n",
      "6      0.388894    0.358166    0.878956  (12:01)\n",
      "7      0.383976    0.354630    0.879775  (12:02)\n",
      "8      0.377142    0.352472    0.880237  (12:03)\n",
      "9      0.372201    0.351194    0.880494  (12:03)\n",
      "10     0.370774    0.351288    0.880475  (12:06)\n",
      "\n"
     ]
    }
   ],
   "source": [
    "learn.fit_one_cycle(10, 1e-3, moms=(0.8,0.7))"
   ]
  },
  {
   "cell_type": "code",
   "execution_count": 21,
   "metadata": {},
   "outputs": [],
   "source": [
    "learn.save(\"unfreeze_lm\")"
   ]
  },
  {
   "cell_type": "code",
   "execution_count": 22,
   "metadata": {},
   "outputs": [],
   "source": [
    "learn.save_encoder(\"unfreeze_lm_encoder\")"
   ]
  },
  {
   "cell_type": "code",
   "execution_count": 62,
   "metadata": {},
   "outputs": [],
   "source": [
    "learn.save_encoder(\"tmp_lm_encoder\")"
   ]
  },
  {
   "cell_type": "code",
   "execution_count": 11,
   "metadata": {},
   "outputs": [],
   "source": [
    "data_class = (TextList.from_df(df, path, cols=4)\n",
    "              .random_split_by_pct(0.2)\n",
    "              .label_from_df(6)\n",
    "              .databunch(bs=50)\n",
    ")\n",
    "\n",
    "data_class.save(\"tmp_class\")"
   ]
  },
  {
   "cell_type": "code",
   "execution_count": 12,
   "metadata": {},
   "outputs": [],
   "source": [
    "data_class = TextClasDataBunch.load(path, \"tmp_class\", bs=50)"
   ]
  },
  {
   "cell_type": "code",
   "execution_count": 13,
   "metadata": {},
   "outputs": [
    {
     "data": {
      "text/plain": [
       "37535"
      ]
     },
     "execution_count": 13,
     "metadata": {},
     "output_type": "execute_result"
    }
   ],
   "source": [
    "len(data_class.vocab.itos)"
   ]
  },
  {
   "cell_type": "code",
   "execution_count": 14,
   "metadata": {},
   "outputs": [
    {
     "data": {
      "text/plain": [
       "RNNLearner(data=TextClasDataBunch;\n",
       "Train: LabelList\n",
       "y: CategoryList (331072 items)\n",
       "[Category positive, Category positive, Category positive, Category positive, Category positive]...\n",
       "Path: .\n",
       "x: TextList (331072 items)\n",
       "[Text xxbos i feel so xxup lucky to have found this used ( phone to us & not used hard at all ) , phone on line from someone who upgraded and sold this one . xxmaj my xxmaj son liked his old one that finally fell apart after 2.5 + years and did n't want an upgrade ! ! xxmaj thank you xxmaj seller , we really appreciate it & your honesty re : said used phone . i recommend this seller very highly & would but from them again ! !, Text xxbos nice phone , nice up grade from my xxunk xxunk . xxmaj very clean set up and easy set up . never had an android phone but they are fantastic to say the least . perfect size for surfing and social media . great phone samsung, Text xxbos xxmaj very pleased, Text xxbos xxmaj it works good but it goes slow sometimes but its a very good phone i love it, Text xxbos xxmaj great phone to replace my lost phone . xxmaj the only thing is the volume up button does not work , but i can still go into settings to adjust . xxmaj other than that , it does the job until i am eligible to upgrade my phone again . xxmaj xxunk !]...\n",
       "Path: /home/nbuser/courses/fast-ai/course-v3/nbs/data/amazon;\n",
       "Valid: LabelList\n",
       "y: CategoryList (82768 items)\n",
       "[Category positive, Category positive, Category negative, Category positive, Category positive]...\n",
       "Path: .\n",
       "x: TextList (82768 items)\n",
       "[Text xxbos xxmaj my experience with this purchase was wonderful the phone was everything it was advertised to be and it came early, Text xxbos xxmaj recomendados !, Text xxbos xxmaj still has the same issues that the 6 does . xxmaj also the r1 hd . xxmaj take a photo and xxup sometimes it will let you view it . xxmaj others no viewer associated and the picture is xxmaj blank and gone forever . xxmaj reboot system and it comes out good maybe . but still loosing pictures . xxmaj not worth the money and headaches to go xxup blu xxmaj ever again . xxmaj searching for a different brand and hoping that it works the way it is supposed to the first time . xxmaj very disappointed ., Text xxbos xxmaj excellent product . a plus seller ., Text xxbos xxmaj the iphone 6 is great . xxmaj better deal to by from xxmaj amazon then get service , vs. getting trapped in a contract . i have the $ 50 plan with sprint and that 's it !]...\n",
       "Path: /home/nbuser/courses/fast-ai/course-v3/nbs/data/amazon;\n",
       "Test: None, model=SequentialRNN(\n",
       "  (0): MultiBatchRNNCore(\n",
       "    (encoder): Embedding(37535, 400, padding_idx=1)\n",
       "    (encoder_dp): EmbeddingDropout(\n",
       "      (emb): Embedding(37535, 400, padding_idx=1)\n",
       "    )\n",
       "    (rnns): ModuleList(\n",
       "      (0): WeightDropout(\n",
       "        (module): LSTM(400, 1150)\n",
       "      )\n",
       "      (1): WeightDropout(\n",
       "        (module): LSTM(1150, 1150)\n",
       "      )\n",
       "      (2): WeightDropout(\n",
       "        (module): LSTM(1150, 400)\n",
       "      )\n",
       "    )\n",
       "    (input_dp): RNNDropout()\n",
       "    (hidden_dps): ModuleList(\n",
       "      (0): RNNDropout()\n",
       "      (1): RNNDropout()\n",
       "      (2): RNNDropout()\n",
       "    )\n",
       "  )\n",
       "  (1): PoolingLinearClassifier(\n",
       "    (layers): Sequential(\n",
       "      (0): BatchNorm1d(1200, eps=1e-05, momentum=0.1, affine=True, track_running_stats=True)\n",
       "      (1): Dropout(p=0.2)\n",
       "      (2): Linear(in_features=1200, out_features=50, bias=True)\n",
       "      (3): ReLU(inplace)\n",
       "      (4): BatchNorm1d(50, eps=1e-05, momentum=0.1, affine=True, track_running_stats=True)\n",
       "      (5): Dropout(p=0.1)\n",
       "      (6): Linear(in_features=50, out_features=3, bias=True)\n",
       "    )\n",
       "  )\n",
       "), opt_func=functools.partial(<class 'torch.optim.adam.Adam'>, betas=(0.9, 0.99)), loss_func=<function cross_entropy at 0x7f58d52f7400>, metrics=[<function accuracy at 0x7f58d48a36a8>], true_wd=True, bn_wd=True, wd=0.01, train_bn=True, path=PosixPath('/home/nbuser/courses/fast-ai/course-v3/nbs/data/amazon'), model_dir='models', callback_fns=[<class 'fastai.basic_train.Recorder'>], callbacks=[RNNTrainer(learn=RNNLearner(data=TextClasDataBunch;\n",
       "Train: LabelList\n",
       "y: CategoryList (331072 items)\n",
       "[Category positive, Category positive, Category positive, Category positive, Category positive]...\n",
       "Path: .\n",
       "x: TextList (331072 items)\n",
       "[Text xxbos i feel so xxup lucky to have found this used ( phone to us & not used hard at all ) , phone on line from someone who upgraded and sold this one . xxmaj my xxmaj son liked his old one that finally fell apart after 2.5 + years and did n't want an upgrade ! ! xxmaj thank you xxmaj seller , we really appreciate it & your honesty re : said used phone . i recommend this seller very highly & would but from them again ! !, Text xxbos nice phone , nice up grade from my xxunk xxunk . xxmaj very clean set up and easy set up . never had an android phone but they are fantastic to say the least . perfect size for surfing and social media . great phone samsung, Text xxbos xxmaj very pleased, Text xxbos xxmaj it works good but it goes slow sometimes but its a very good phone i love it, Text xxbos xxmaj great phone to replace my lost phone . xxmaj the only thing is the volume up button does not work , but i can still go into settings to adjust . xxmaj other than that , it does the job until i am eligible to upgrade my phone again . xxmaj xxunk !]...\n",
       "Path: /home/nbuser/courses/fast-ai/course-v3/nbs/data/amazon;\n",
       "Valid: LabelList\n",
       "y: CategoryList (82768 items)\n",
       "[Category positive, Category positive, Category negative, Category positive, Category positive]...\n",
       "Path: .\n",
       "x: TextList (82768 items)\n",
       "[Text xxbos xxmaj my experience with this purchase was wonderful the phone was everything it was advertised to be and it came early, Text xxbos xxmaj recomendados !, Text xxbos xxmaj still has the same issues that the 6 does . xxmaj also the r1 hd . xxmaj take a photo and xxup sometimes it will let you view it . xxmaj others no viewer associated and the picture is xxmaj blank and gone forever . xxmaj reboot system and it comes out good maybe . but still loosing pictures . xxmaj not worth the money and headaches to go xxup blu xxmaj ever again . xxmaj searching for a different brand and hoping that it works the way it is supposed to the first time . xxmaj very disappointed ., Text xxbos xxmaj excellent product . a plus seller ., Text xxbos xxmaj the iphone 6 is great . xxmaj better deal to by from xxmaj amazon then get service , vs. getting trapped in a contract . i have the $ 50 plan with sprint and that 's it !]...\n",
       "Path: /home/nbuser/courses/fast-ai/course-v3/nbs/data/amazon;\n",
       "Test: None, model=SequentialRNN(\n",
       "  (0): MultiBatchRNNCore(\n",
       "    (encoder): Embedding(37535, 400, padding_idx=1)\n",
       "    (encoder_dp): EmbeddingDropout(\n",
       "      (emb): Embedding(37535, 400, padding_idx=1)\n",
       "    )\n",
       "    (rnns): ModuleList(\n",
       "      (0): WeightDropout(\n",
       "        (module): LSTM(400, 1150)\n",
       "      )\n",
       "      (1): WeightDropout(\n",
       "        (module): LSTM(1150, 1150)\n",
       "      )\n",
       "      (2): WeightDropout(\n",
       "        (module): LSTM(1150, 400)\n",
       "      )\n",
       "    )\n",
       "    (input_dp): RNNDropout()\n",
       "    (hidden_dps): ModuleList(\n",
       "      (0): RNNDropout()\n",
       "      (1): RNNDropout()\n",
       "      (2): RNNDropout()\n",
       "    )\n",
       "  )\n",
       "  (1): PoolingLinearClassifier(\n",
       "    (layers): Sequential(\n",
       "      (0): BatchNorm1d(1200, eps=1e-05, momentum=0.1, affine=True, track_running_stats=True)\n",
       "      (1): Dropout(p=0.2)\n",
       "      (2): Linear(in_features=1200, out_features=50, bias=True)\n",
       "      (3): ReLU(inplace)\n",
       "      (4): BatchNorm1d(50, eps=1e-05, momentum=0.1, affine=True, track_running_stats=True)\n",
       "      (5): Dropout(p=0.1)\n",
       "      (6): Linear(in_features=50, out_features=3, bias=True)\n",
       "    )\n",
       "  )\n",
       "), opt_func=functools.partial(<class 'torch.optim.adam.Adam'>, betas=(0.9, 0.99)), loss_func=<function cross_entropy at 0x7f58d52f7400>, metrics=[<function accuracy at 0x7f58d48a36a8>], true_wd=True, bn_wd=True, wd=0.01, train_bn=True, path=PosixPath('/home/nbuser/courses/fast-ai/course-v3/nbs/data/amazon'), model_dir='models', callback_fns=[<class 'fastai.basic_train.Recorder'>], callbacks=[...], layer_groups=[Sequential(\n",
       "  (0): Embedding(37535, 400, padding_idx=1)\n",
       "  (1): EmbeddingDropout(\n",
       "    (emb): Embedding(37535, 400, padding_idx=1)\n",
       "  )\n",
       "), Sequential(\n",
       "  (0): WeightDropout(\n",
       "    (module): LSTM(400, 1150)\n",
       "  )\n",
       "  (1): RNNDropout()\n",
       "), Sequential(\n",
       "  (0): WeightDropout(\n",
       "    (module): LSTM(1150, 1150)\n",
       "  )\n",
       "  (1): RNNDropout()\n",
       "), Sequential(\n",
       "  (0): WeightDropout(\n",
       "    (module): LSTM(1150, 400)\n",
       "  )\n",
       "  (1): RNNDropout()\n",
       "), Sequential(\n",
       "  (0): PoolingLinearClassifier(\n",
       "    (layers): Sequential(\n",
       "      (0): BatchNorm1d(1200, eps=1e-05, momentum=0.1, affine=True, track_running_stats=True)\n",
       "      (1): Dropout(p=0.2)\n",
       "      (2): Linear(in_features=1200, out_features=50, bias=True)\n",
       "      (3): ReLU(inplace)\n",
       "      (4): BatchNorm1d(50, eps=1e-05, momentum=0.1, affine=True, track_running_stats=True)\n",
       "      (5): Dropout(p=0.1)\n",
       "      (6): Linear(in_features=50, out_features=3, bias=True)\n",
       "    )\n",
       "  )\n",
       ")]), bptt=70, alpha=2.0, beta=1.0, adjust=False)], layer_groups=[Sequential(\n",
       "  (0): Embedding(37535, 400, padding_idx=1)\n",
       "  (1): EmbeddingDropout(\n",
       "    (emb): Embedding(37535, 400, padding_idx=1)\n",
       "  )\n",
       "), Sequential(\n",
       "  (0): WeightDropout(\n",
       "    (module): LSTM(400, 1150)\n",
       "  )\n",
       "  (1): RNNDropout()\n",
       "), Sequential(\n",
       "  (0): WeightDropout(\n",
       "    (module): LSTM(1150, 1150)\n",
       "  )\n",
       "  (1): RNNDropout()\n",
       "), Sequential(\n",
       "  (0): WeightDropout(\n",
       "    (module): LSTM(1150, 400)\n",
       "  )\n",
       "  (1): RNNDropout()\n",
       "), Sequential(\n",
       "  (0): PoolingLinearClassifier(\n",
       "    (layers): Sequential(\n",
       "      (0): BatchNorm1d(1200, eps=1e-05, momentum=0.1, affine=True, track_running_stats=True)\n",
       "      (1): Dropout(p=0.2)\n",
       "      (2): Linear(in_features=1200, out_features=50, bias=True)\n",
       "      (3): ReLU(inplace)\n",
       "      (4): BatchNorm1d(50, eps=1e-05, momentum=0.1, affine=True, track_running_stats=True)\n",
       "      (5): Dropout(p=0.1)\n",
       "      (6): Linear(in_features=50, out_features=3, bias=True)\n",
       "    )\n",
       "  )\n",
       ")])"
      ]
     },
     "execution_count": 14,
     "metadata": {},
     "output_type": "execute_result"
    }
   ],
   "source": [
    "learn_class = text_classifier_learner(data_class, drop_mult=0.5)\n",
    "learn_class"
   ]
  },
  {
   "cell_type": "code",
   "execution_count": 15,
   "metadata": {},
   "outputs": [
    {
     "data": {
      "text/plain": [
       "LanguageLearner(data=TextLMDataBunch;\n",
       "Train: LabelList\n",
       "y: LMLabel (372456 items)\n",
       "[Category 0, Category 0, Category 0, Category 0, Category 0]...\n",
       "Path: .\n",
       "x: LMTextList (372456 items)\n",
       "[Text xxbos i feel so xxup lucky to have found this used ( phone to us & not used hard at all ) , phone on line from someone who upgraded and sold this one . xxmaj my xxmaj son liked his old one that finally fell apart after 2.5 + years and did n't want an upgrade ! ! xxmaj thank you xxmaj seller , we really appreciate it & your honesty re : said used phone . i recommend this seller very highly & would but from them again ! !, Text xxbos nice phone , nice up grade from my pantach revue . xxmaj very clean set up and easy set up . never had an android phone but they are fantastic to say the least . perfect size for surfing and social media . great phone samsung, Text xxbos xxmaj very pleased, Text xxbos xxmaj it works good but it goes slow sometimes but its a very good phone i love it, Text xxbos xxmaj great phone to replace my lost phone . xxmaj the only thing is the volume up button does not work , but i can still go into settings to adjust . xxmaj other than that , it does the job until i am eligible to upgrade my phone again . xxmaj xxunk !]...\n",
       "Path: /home/nbuser/courses/fast-ai/course-v3/nbs/data/amazon;\n",
       "Valid: LabelList\n",
       "y: LMLabel (41384 items)\n",
       "[Category 0, Category 0, Category 0, Category 0, Category 0]...\n",
       "Path: .\n",
       "x: LMTextList (41384 items)\n",
       "[Text xxbos xxmaj mmagasa45@yaoo.com, Text xxbos xxmaj very good ! xxmaj not very large . xxmaj not very small . xxmaj just right size to me ! :d, Text xxbos excelente, Text xxbos xxmaj works as bluetooth ... cannot use my sim , xxmaj samsung xxmaj galaxy 5s ., Text xxbos xxmaj excelente producto]...\n",
       "Path: /home/nbuser/courses/fast-ai/course-v3/nbs/data/amazon;\n",
       "Test: None, model=SequentialRNN(\n",
       "  (0): RNNCore(\n",
       "    (encoder): Embedding(40405, 400, padding_idx=1)\n",
       "    (encoder_dp): EmbeddingDropout(\n",
       "      (emb): Embedding(40405, 400, padding_idx=1)\n",
       "    )\n",
       "    (rnns): ModuleList(\n",
       "      (0): WeightDropout(\n",
       "        (module): LSTM(400, 1150)\n",
       "      )\n",
       "      (1): WeightDropout(\n",
       "        (module): LSTM(1150, 1150)\n",
       "      )\n",
       "      (2): WeightDropout(\n",
       "        (module): LSTM(1150, 400)\n",
       "      )\n",
       "    )\n",
       "    (input_dp): RNNDropout()\n",
       "    (hidden_dps): ModuleList(\n",
       "      (0): RNNDropout()\n",
       "      (1): RNNDropout()\n",
       "      (2): RNNDropout()\n",
       "    )\n",
       "  )\n",
       "  (1): LinearDecoder(\n",
       "    (decoder): Linear(in_features=400, out_features=40405, bias=True)\n",
       "    (output_dp): RNNDropout()\n",
       "  )\n",
       "), opt_func=functools.partial(<class 'torch.optim.adam.Adam'>, betas=(0.9, 0.99)), loss_func=<function cross_entropy at 0x7f58d52f7400>, metrics=[<function accuracy at 0x7f58d48a36a8>], true_wd=True, bn_wd=True, wd=0.01, train_bn=True, path=PosixPath('/home/nbuser/courses/fast-ai/course-v3/nbs/data/amazon'), model_dir='models', callback_fns=[<class 'fastai.basic_train.Recorder'>], callbacks=[RNNTrainer(learn=LanguageLearner(data=TextLMDataBunch;\n",
       "Train: LabelList\n",
       "y: LMLabel (372456 items)\n",
       "[Category 0, Category 0, Category 0, Category 0, Category 0]...\n",
       "Path: .\n",
       "x: LMTextList (372456 items)\n",
       "[Text xxbos i feel so xxup lucky to have found this used ( phone to us & not used hard at all ) , phone on line from someone who upgraded and sold this one . xxmaj my xxmaj son liked his old one that finally fell apart after 2.5 + years and did n't want an upgrade ! ! xxmaj thank you xxmaj seller , we really appreciate it & your honesty re : said used phone . i recommend this seller very highly & would but from them again ! !, Text xxbos nice phone , nice up grade from my pantach revue . xxmaj very clean set up and easy set up . never had an android phone but they are fantastic to say the least . perfect size for surfing and social media . great phone samsung, Text xxbos xxmaj very pleased, Text xxbos xxmaj it works good but it goes slow sometimes but its a very good phone i love it, Text xxbos xxmaj great phone to replace my lost phone . xxmaj the only thing is the volume up button does not work , but i can still go into settings to adjust . xxmaj other than that , it does the job until i am eligible to upgrade my phone again . xxmaj xxunk !]...\n",
       "Path: /home/nbuser/courses/fast-ai/course-v3/nbs/data/amazon;\n",
       "Valid: LabelList\n",
       "y: LMLabel (41384 items)\n",
       "[Category 0, Category 0, Category 0, Category 0, Category 0]...\n",
       "Path: .\n",
       "x: LMTextList (41384 items)\n",
       "[Text xxbos xxmaj mmagasa45@yaoo.com, Text xxbos xxmaj very good ! xxmaj not very large . xxmaj not very small . xxmaj just right size to me ! :d, Text xxbos excelente, Text xxbos xxmaj works as bluetooth ... cannot use my sim , xxmaj samsung xxmaj galaxy 5s ., Text xxbos xxmaj excelente producto]...\n",
       "Path: /home/nbuser/courses/fast-ai/course-v3/nbs/data/amazon;\n",
       "Test: None, model=SequentialRNN(\n",
       "  (0): RNNCore(\n",
       "    (encoder): Embedding(40405, 400, padding_idx=1)\n",
       "    (encoder_dp): EmbeddingDropout(\n",
       "      (emb): Embedding(40405, 400, padding_idx=1)\n",
       "    )\n",
       "    (rnns): ModuleList(\n",
       "      (0): WeightDropout(\n",
       "        (module): LSTM(400, 1150)\n",
       "      )\n",
       "      (1): WeightDropout(\n",
       "        (module): LSTM(1150, 1150)\n",
       "      )\n",
       "      (2): WeightDropout(\n",
       "        (module): LSTM(1150, 400)\n",
       "      )\n",
       "    )\n",
       "    (input_dp): RNNDropout()\n",
       "    (hidden_dps): ModuleList(\n",
       "      (0): RNNDropout()\n",
       "      (1): RNNDropout()\n",
       "      (2): RNNDropout()\n",
       "    )\n",
       "  )\n",
       "  (1): LinearDecoder(\n",
       "    (decoder): Linear(in_features=400, out_features=40405, bias=True)\n",
       "    (output_dp): RNNDropout()\n",
       "  )\n",
       "), opt_func=functools.partial(<class 'torch.optim.adam.Adam'>, betas=(0.9, 0.99)), loss_func=<function cross_entropy at 0x7f58d52f7400>, metrics=[<function accuracy at 0x7f58d48a36a8>], true_wd=True, bn_wd=True, wd=0.01, train_bn=True, path=PosixPath('/home/nbuser/courses/fast-ai/course-v3/nbs/data/amazon'), model_dir='models', callback_fns=[<class 'fastai.basic_train.Recorder'>], callbacks=[...], layer_groups=[Sequential(\n",
       "  (0): WeightDropout(\n",
       "    (module): LSTM(400, 1150)\n",
       "  )\n",
       "  (1): RNNDropout()\n",
       "), Sequential(\n",
       "  (0): WeightDropout(\n",
       "    (module): LSTM(1150, 1150)\n",
       "  )\n",
       "  (1): RNNDropout()\n",
       "), Sequential(\n",
       "  (0): WeightDropout(\n",
       "    (module): LSTM(1150, 400)\n",
       "  )\n",
       "  (1): RNNDropout()\n",
       "), Sequential(\n",
       "  (0): Embedding(40405, 400, padding_idx=1)\n",
       "  (1): EmbeddingDropout(\n",
       "    (emb): Embedding(40405, 400, padding_idx=1)\n",
       "  )\n",
       "  (2): LinearDecoder(\n",
       "    (decoder): Linear(in_features=400, out_features=40405, bias=True)\n",
       "    (output_dp): RNNDropout()\n",
       "  )\n",
       ")]), bptt=70, alpha=2.0, beta=1.0, adjust=False)], layer_groups=[Sequential(\n",
       "  (0): WeightDropout(\n",
       "    (module): LSTM(400, 1150)\n",
       "  )\n",
       "  (1): RNNDropout()\n",
       "), Sequential(\n",
       "  (0): WeightDropout(\n",
       "    (module): LSTM(1150, 1150)\n",
       "  )\n",
       "  (1): RNNDropout()\n",
       "), Sequential(\n",
       "  (0): WeightDropout(\n",
       "    (module): LSTM(1150, 400)\n",
       "  )\n",
       "  (1): RNNDropout()\n",
       "), Sequential(\n",
       "  (0): Embedding(40405, 400, padding_idx=1)\n",
       "  (1): EmbeddingDropout(\n",
       "    (emb): Embedding(40405, 400, padding_idx=1)\n",
       "  )\n",
       "  (2): LinearDecoder(\n",
       "    (decoder): Linear(in_features=400, out_features=40405, bias=True)\n",
       "    (output_dp): RNNDropout()\n",
       "  )\n",
       ")])"
      ]
     },
     "execution_count": 15,
     "metadata": {},
     "output_type": "execute_result"
    }
   ],
   "source": [
    "learn"
   ]
  },
  {
   "cell_type": "code",
   "execution_count": 72,
   "metadata": {},
   "outputs": [],
   "source": [
    "# data_class.show_batch()"
   ]
  },
  {
   "cell_type": "code",
   "execution_count": 78,
   "metadata": {},
   "outputs": [
    {
     "ename": "RuntimeError",
     "evalue": "Error(s) in loading state_dict for MultiBatchRNNCore:\n\tsize mismatch for encoder.weight: copying a param of torch.Size([47023, 400]) from checkpoint, where the shape is torch.Size([43627, 400]) in current model.\n\tsize mismatch for encoder_dp.emb.weight: copying a param of torch.Size([47023, 400]) from checkpoint, where the shape is torch.Size([43627, 400]) in current model.",
     "output_type": "error",
     "traceback": [
      "\u001b[0;31m---------------------------------------------------------------------------\u001b[0m",
      "\u001b[0;31mRuntimeError\u001b[0m                              Traceback (most recent call last)",
      "\u001b[0;32m<ipython-input-78-f7334d5e8b2a>\u001b[0m in \u001b[0;36m<module>\u001b[0;34m()\u001b[0m\n\u001b[1;32m      1\u001b[0m \u001b[0mlearn_class\u001b[0m \u001b[0;34m=\u001b[0m \u001b[0mtext_classifier_learner\u001b[0m\u001b[0;34m(\u001b[0m\u001b[0mdata_class\u001b[0m\u001b[0;34m,\u001b[0m \u001b[0mdrop_mult\u001b[0m\u001b[0;34m=\u001b[0m\u001b[0;36m0.5\u001b[0m\u001b[0;34m)\u001b[0m\u001b[0;34m\u001b[0m\u001b[0m\n\u001b[0;32m----> 2\u001b[0;31m \u001b[0mlearn_class\u001b[0m\u001b[0;34m.\u001b[0m\u001b[0mload_encoder\u001b[0m\u001b[0;34m(\u001b[0m\u001b[0;34m\"tmp_lm_encoder\"\u001b[0m\u001b[0;34m)\u001b[0m\u001b[0;34m\u001b[0m\u001b[0m\n\u001b[0m",
      "\u001b[0;32m~/.anaconda3/lib/python3.7/site-packages/fastai/text/learner.py\u001b[0m in \u001b[0;36mload_encoder\u001b[0;34m(self, name)\u001b[0m\n\u001b[1;32m     61\u001b[0m     \u001b[0;32mdef\u001b[0m \u001b[0mload_encoder\u001b[0m\u001b[0;34m(\u001b[0m\u001b[0mself\u001b[0m\u001b[0;34m,\u001b[0m \u001b[0mname\u001b[0m\u001b[0;34m:\u001b[0m\u001b[0mstr\u001b[0m\u001b[0;34m)\u001b[0m\u001b[0;34m:\u001b[0m\u001b[0;34m\u001b[0m\u001b[0m\n\u001b[1;32m     62\u001b[0m         \u001b[0;34m\"Load the encoder `name` from the model directory.\"\u001b[0m\u001b[0;34m\u001b[0m\u001b[0m\n\u001b[0;32m---> 63\u001b[0;31m         \u001b[0mself\u001b[0m\u001b[0;34m.\u001b[0m\u001b[0mmodel\u001b[0m\u001b[0;34m[\u001b[0m\u001b[0;36m0\u001b[0m\u001b[0;34m]\u001b[0m\u001b[0;34m.\u001b[0m\u001b[0mload_state_dict\u001b[0m\u001b[0;34m(\u001b[0m\u001b[0mtorch\u001b[0m\u001b[0;34m.\u001b[0m\u001b[0mload\u001b[0m\u001b[0;34m(\u001b[0m\u001b[0mself\u001b[0m\u001b[0;34m.\u001b[0m\u001b[0mpath\u001b[0m\u001b[0;34m/\u001b[0m\u001b[0mself\u001b[0m\u001b[0;34m.\u001b[0m\u001b[0mmodel_dir\u001b[0m\u001b[0;34m/\u001b[0m\u001b[0;34mf'{name}.pth'\u001b[0m\u001b[0;34m)\u001b[0m\u001b[0;34m)\u001b[0m\u001b[0;34m\u001b[0m\u001b[0m\n\u001b[0m\u001b[1;32m     64\u001b[0m         \u001b[0mself\u001b[0m\u001b[0;34m.\u001b[0m\u001b[0mfreeze\u001b[0m\u001b[0;34m(\u001b[0m\u001b[0;34m)\u001b[0m\u001b[0;34m\u001b[0m\u001b[0m\n\u001b[1;32m     65\u001b[0m \u001b[0;34m\u001b[0m\u001b[0m\n",
      "\u001b[0;32m~/.anaconda3/lib/python3.7/site-packages/torch/nn/modules/module.py\u001b[0m in \u001b[0;36mload_state_dict\u001b[0;34m(self, state_dict, strict)\u001b[0m\n\u001b[1;32m    721\u001b[0m         \u001b[0;32mif\u001b[0m \u001b[0mlen\u001b[0m\u001b[0;34m(\u001b[0m\u001b[0merror_msgs\u001b[0m\u001b[0;34m)\u001b[0m \u001b[0;34m>\u001b[0m \u001b[0;36m0\u001b[0m\u001b[0;34m:\u001b[0m\u001b[0;34m\u001b[0m\u001b[0m\n\u001b[1;32m    722\u001b[0m             raise RuntimeError('Error(s) in loading state_dict for {}:\\n\\t{}'.format(\n\u001b[0;32m--> 723\u001b[0;31m                                self.__class__.__name__, \"\\n\\t\".join(error_msgs)))\n\u001b[0m\u001b[1;32m    724\u001b[0m \u001b[0;34m\u001b[0m\u001b[0m\n\u001b[1;32m    725\u001b[0m     \u001b[0;32mdef\u001b[0m \u001b[0m_named_members\u001b[0m\u001b[0;34m(\u001b[0m\u001b[0mself\u001b[0m\u001b[0;34m,\u001b[0m \u001b[0mget_members_fn\u001b[0m\u001b[0;34m,\u001b[0m \u001b[0mprefix\u001b[0m\u001b[0;34m=\u001b[0m\u001b[0;34m''\u001b[0m\u001b[0;34m,\u001b[0m \u001b[0mrecurse\u001b[0m\u001b[0;34m=\u001b[0m\u001b[0;32mTrue\u001b[0m\u001b[0;34m)\u001b[0m\u001b[0;34m:\u001b[0m\u001b[0;34m\u001b[0m\u001b[0m\n",
      "\u001b[0;31mRuntimeError\u001b[0m: Error(s) in loading state_dict for MultiBatchRNNCore:\n\tsize mismatch for encoder.weight: copying a param of torch.Size([47023, 400]) from checkpoint, where the shape is torch.Size([43627, 400]) in current model.\n\tsize mismatch for encoder_dp.emb.weight: copying a param of torch.Size([47023, 400]) from checkpoint, where the shape is torch.Size([43627, 400]) in current model."
     ]
    }
   ],
   "source": [
    "learn_class = text_classifier_learner(data_class, drop_mult=0.5)\n",
    "learn_class.load_encoder(\"tmp_lm_encoder\")"
   ]
  },
  {
   "cell_type": "code",
   "execution_count": null,
   "metadata": {},
   "outputs": [],
   "source": [
    "# learn_class.load_encoder(\"unfreeze_lm_encoder\")\n",
    "learn_class.freeze()\n",
    "learn_class.lr_find()\n",
    "learn_class.recorder.plot()"
   ]
  },
  {
   "cell_type": "code",
   "execution_count": null,
   "metadata": {},
   "outputs": [],
   "source": []
  }
 ],
 "metadata": {
  "kernelspec": {
   "display_name": "Python 3",
   "language": "python",
   "name": "python3"
  },
  "language_info": {
   "codemirror_mode": {
    "name": "ipython",
    "version": 3
   },
   "file_extension": ".py",
   "mimetype": "text/x-python",
   "name": "python",
   "nbconvert_exporter": "python",
   "pygments_lexer": "ipython3",
   "version": "3.7.0"
  }
 },
 "nbformat": 4,
 "nbformat_minor": 2
}
